{
  "nbformat": 4,
  "nbformat_minor": 0,
  "metadata": {
    "colab": {
      "name": "projet_INF8225.ipynb",
      "provenance": [],
      "collapsed_sections": [],
      "include_colab_link": true
    },
    "kernelspec": {
      "name": "python3",
      "display_name": "Python 3"
    },
    "language_info": {
      "name": "python"
    },
    "accelerator": "GPU"
  },
  "cells": [
    {
      "cell_type": "markdown",
      "metadata": {
        "id": "view-in-github",
        "colab_type": "text"
      },
      "source": [
        "<a href=\"https://colab.research.google.com/github/christophe-asselin/projet-inf8225/blob/master/projet_INF8225.ipynb\" target=\"_parent\"><img src=\"https://colab.research.google.com/assets/colab-badge.svg\" alt=\"Open In Colab\"/></a>"
      ]
    },
    {
      "cell_type": "code",
      "metadata": {
        "id": "3gl7CsZBW1Vf",
        "colab": {
          "base_uri": "https://localhost:8080/"
        },
        "outputId": "b4a5cb98-4561-40c6-c9d8-1b69ce1bf57d"
      },
      "source": [
        "!sudo apt update && sudo apt install xvfb\n",
        "!pip install gym-notebook-wrapper"
      ],
      "execution_count": null,
      "outputs": [
        {
          "output_type": "stream",
          "text": [
            "\u001b[33m\r0% [Working]\u001b[0m\r            \rIgn:1 https://developer.download.nvidia.com/compute/cuda/repos/ubuntu1804/x86_64  InRelease\n",
            "\u001b[33m\r0% [Connecting to archive.ubuntu.com (91.189.88.142)] [Connecting to security.u\u001b[0m\r                                                                               \rHit:2 https://cloud.r-project.org/bin/linux/ubuntu bionic-cran40/ InRelease\n",
            "\u001b[33m\r0% [Connecting to archive.ubuntu.com (91.189.88.142)] [Connecting to security.u\u001b[0m\u001b[33m\r0% [2 InRelease gpgv 3,626 B] [Connecting to archive.ubuntu.com (91.189.88.142)\u001b[0m\r                                                                               \rIgn:3 https://developer.download.nvidia.com/compute/machine-learning/repos/ubuntu1804/x86_64  InRelease\n",
            "\u001b[33m\r0% [2 InRelease gpgv 3,626 B] [Waiting for headers] [Waiting for headers] [Wait\u001b[0m\r                                                                               \rHit:4 https://developer.download.nvidia.com/compute/cuda/repos/ubuntu1804/x86_64  Release\n",
            "Hit:5 https://developer.download.nvidia.com/compute/machine-learning/repos/ubuntu1804/x86_64  Release\n",
            "Hit:6 http://archive.ubuntu.com/ubuntu bionic InRelease\n",
            "Hit:7 http://security.ubuntu.com/ubuntu bionic-security InRelease\n",
            "Hit:8 http://ppa.launchpad.net/c2d4u.team/c2d4u4.0+/ubuntu bionic InRelease\n",
            "Hit:11 http://archive.ubuntu.com/ubuntu bionic-updates InRelease\n",
            "Hit:12 http://archive.ubuntu.com/ubuntu bionic-backports InRelease\n",
            "Hit:13 http://ppa.launchpad.net/cran/libgit2/ubuntu bionic InRelease\n",
            "Hit:14 http://ppa.launchpad.net/deadsnakes/ppa/ubuntu bionic InRelease\n",
            "Hit:15 http://ppa.launchpad.net/graphics-drivers/ppa/ubuntu bionic InRelease\n",
            "Reading package lists... Done\n",
            "Building dependency tree       \n",
            "Reading state information... Done\n",
            "45 packages can be upgraded. Run 'apt list --upgradable' to see them.\n",
            "Reading package lists... Done\n",
            "Building dependency tree       \n",
            "Reading state information... Done\n",
            "xvfb is already the newest version (2:1.19.6-1ubuntu4.9).\n",
            "The following package was automatically installed and is no longer required:\n",
            "  libnvidia-common-460\n",
            "Use 'sudo apt autoremove' to remove it.\n",
            "0 upgraded, 0 newly installed, 0 to remove and 45 not upgraded.\n",
            "Requirement already satisfied: gym-notebook-wrapper in /usr/local/lib/python3.7/dist-packages (1.2.4)\n",
            "Requirement already satisfied: matplotlib in /usr/local/lib/python3.7/dist-packages (from gym-notebook-wrapper) (3.2.2)\n",
            "Requirement already satisfied: pyvirtualdisplay in /usr/local/lib/python3.7/dist-packages (from gym-notebook-wrapper) (2.1)\n",
            "Requirement already satisfied: gym in /usr/local/lib/python3.7/dist-packages (from gym-notebook-wrapper) (0.17.3)\n",
            "Requirement already satisfied: ipython in /usr/local/lib/python3.7/dist-packages (from gym-notebook-wrapper) (5.5.0)\n",
            "Requirement already satisfied: kiwisolver>=1.0.1 in /usr/local/lib/python3.7/dist-packages (from matplotlib->gym-notebook-wrapper) (1.3.1)\n",
            "Requirement already satisfied: pyparsing!=2.0.4,!=2.1.2,!=2.1.6,>=2.0.1 in /usr/local/lib/python3.7/dist-packages (from matplotlib->gym-notebook-wrapper) (2.4.7)\n",
            "Requirement already satisfied: python-dateutil>=2.1 in /usr/local/lib/python3.7/dist-packages (from matplotlib->gym-notebook-wrapper) (2.8.1)\n",
            "Requirement already satisfied: numpy>=1.11 in /usr/local/lib/python3.7/dist-packages (from matplotlib->gym-notebook-wrapper) (1.19.5)\n",
            "Requirement already satisfied: cycler>=0.10 in /usr/local/lib/python3.7/dist-packages (from matplotlib->gym-notebook-wrapper) (0.10.0)\n",
            "Requirement already satisfied: EasyProcess in /usr/local/lib/python3.7/dist-packages (from pyvirtualdisplay->gym-notebook-wrapper) (0.3)\n",
            "Requirement already satisfied: cloudpickle<1.7.0,>=1.2.0 in /usr/local/lib/python3.7/dist-packages (from gym->gym-notebook-wrapper) (1.3.0)\n",
            "Requirement already satisfied: scipy in /usr/local/lib/python3.7/dist-packages (from gym->gym-notebook-wrapper) (1.4.1)\n",
            "Requirement already satisfied: pyglet<=1.5.0,>=1.4.0 in /usr/local/lib/python3.7/dist-packages (from gym->gym-notebook-wrapper) (1.5.0)\n",
            "Requirement already satisfied: pexpect; sys_platform != \"win32\" in /usr/local/lib/python3.7/dist-packages (from ipython->gym-notebook-wrapper) (4.8.0)\n",
            "Requirement already satisfied: pickleshare in /usr/local/lib/python3.7/dist-packages (from ipython->gym-notebook-wrapper) (0.7.5)\n",
            "Requirement already satisfied: decorator in /usr/local/lib/python3.7/dist-packages (from ipython->gym-notebook-wrapper) (4.4.2)\n",
            "Requirement already satisfied: simplegeneric>0.8 in /usr/local/lib/python3.7/dist-packages (from ipython->gym-notebook-wrapper) (0.8.1)\n",
            "Requirement already satisfied: pygments in /usr/local/lib/python3.7/dist-packages (from ipython->gym-notebook-wrapper) (2.6.1)\n",
            "Requirement already satisfied: traitlets>=4.2 in /usr/local/lib/python3.7/dist-packages (from ipython->gym-notebook-wrapper) (5.0.5)\n",
            "Requirement already satisfied: prompt-toolkit<2.0.0,>=1.0.4 in /usr/local/lib/python3.7/dist-packages (from ipython->gym-notebook-wrapper) (1.0.18)\n",
            "Requirement already satisfied: setuptools>=18.5 in /usr/local/lib/python3.7/dist-packages (from ipython->gym-notebook-wrapper) (56.0.0)\n",
            "Requirement already satisfied: six>=1.5 in /usr/local/lib/python3.7/dist-packages (from python-dateutil>=2.1->matplotlib->gym-notebook-wrapper) (1.15.0)\n",
            "Requirement already satisfied: future in /usr/local/lib/python3.7/dist-packages (from pyglet<=1.5.0,>=1.4.0->gym->gym-notebook-wrapper) (0.16.0)\n",
            "Requirement already satisfied: ptyprocess>=0.5 in /usr/local/lib/python3.7/dist-packages (from pexpect; sys_platform != \"win32\"->ipython->gym-notebook-wrapper) (0.7.0)\n",
            "Requirement already satisfied: ipython-genutils in /usr/local/lib/python3.7/dist-packages (from traitlets>=4.2->ipython->gym-notebook-wrapper) (0.2.0)\n",
            "Requirement already satisfied: wcwidth in /usr/local/lib/python3.7/dist-packages (from prompt-toolkit<2.0.0,>=1.0.4->ipython->gym-notebook-wrapper) (0.2.5)\n"
          ],
          "name": "stdout"
        }
      ]
    },
    {
      "cell_type": "markdown",
      "metadata": {
        "id": "syRSL7H21iAN"
      },
      "source": [
        "## Vanilla PG"
      ]
    },
    {
      "cell_type": "code",
      "metadata": {
        "id": "Yz9gwW_XZQaa"
      },
      "source": [
        "import torch\n",
        "from torch import nn\n",
        "from torch.distributions import Categorical\n",
        "\n",
        "class PolicyNet(torch.nn.Module):\n",
        "    def __init__(self, input_size, output_size, hidden_layer_size=64):\n",
        "        super(PolicyNet, self).__init__()\n",
        "        self.mlp = nn.Sequential(\n",
        "            nn.Linear(input_size, hidden_layer_size),\n",
        "            nn.ReLU(),\n",
        "            nn.Linear(hidden_layer_size, output_size),\n",
        "            nn.Softmax(dim=0)\n",
        "        )\n",
        "\n",
        "    def forward(self, x):\n",
        "        x = torch.from_numpy(x).float()\n",
        "        return self.mlp(x)\n",
        "\n",
        "    def get_action_and_log_prob(self, x):\n",
        "        action_prob = self.forward(x)\n",
        "        m = Categorical(action_prob)\n",
        "        action = m.sample()\n",
        "        logp = m.log_prob(action)\n",
        "        return action.item(), logp\n",
        "\n",
        "    def get_action(self, x):\n",
        "        action, _ = self.get_action_and_log_prob(x)\n",
        "        return action\n",
        "\n",
        "class ValueNet(torch.nn.Module):\n",
        "    def __init__(self, input_size, hidden_layer_size=64):\n",
        "        super(ValueNet, self).__init__()\n",
        "        self.mlp = nn.Sequential(\n",
        "            nn.Linear(input_size, hidden_layer_size),\n",
        "            nn.ReLU(),\n",
        "            nn.Linear(hidden_layer_size, 1)\n",
        "        )\n",
        "\n",
        "    def forward(self, x):\n",
        "        x = torch.from_numpy(x).float()\n",
        "        return self.mlp(x)"
      ],
      "execution_count": null,
      "outputs": []
    },
    {
      "cell_type": "code",
      "metadata": {
        "id": "_sws8TxqaIje"
      },
      "source": [
        "from dataclasses import dataclass\n",
        "import numpy as np\n",
        "\n",
        "@dataclass\n",
        "class Trajectory:\n",
        "    states: list\n",
        "    actions: list\n",
        "    rewards: list\n",
        "    logp: list\n",
        "    dones: list\n",
        "\n",
        "def collect_trajectory(policy, max_num_steps):\n",
        "    state_list = []\n",
        "    action_list = []\n",
        "    reward_list = []\n",
        "    dones_list = []\n",
        "    logp_list = []\n",
        "    state = env.reset()\n",
        "    done = False\n",
        "    steps = 0\n",
        "    while not done and steps <= max_num_steps:\n",
        "        action, logp = policy.get_action_and_log_prob(state)\n",
        "        newstate, reward, done, _ = env.step(action)\n",
        "        state_list.append(state)\n",
        "        action_list.append(action)\n",
        "        reward_list.append(reward)\n",
        "        dones_list.append(done)\n",
        "        logp_list.append(logp)\n",
        "        steps += 1\n",
        "        state = newstate\n",
        "\n",
        "    traj = Trajectory(states=state_list, actions=action_list,\n",
        "                        rewards=reward_list, logp=logp_list, dones=dones_list)\n",
        "    return traj\n",
        "\n",
        "def discounted_sum_of_rewards(rewards, gamma):\n",
        "    disc_rewards = [gamma**i * r for i, r in enumerate(rewards)]\n",
        "    return [sum(disc_rewards[i:]) for i in range(len(disc_rewards))]\n",
        "\n",
        "def vpg(env, num_iter=200, num_traj=10, max_num_steps=1000, gamma=0.98,\n",
        "        policy_learning_rate=0.01, value_learning_rate=0.01,\n",
        "        policy_saved_path='vpg_policy.pt', value_saved_path='vpg_value.pt'):\n",
        "    input_size = env.observation_space.shape[0]\n",
        "    output_size = env.action_space.n\n",
        "\n",
        "    policy = PolicyNet(input_size, output_size)\n",
        "    value = ValueNet(input_size)\n",
        "    policy_optimizer = torch.optim.Adam(\n",
        "        policy.parameters(), lr=policy_learning_rate)\n",
        "    value_optimizer = torch.optim.Adam(\n",
        "        value.parameters(), lr=value_learning_rate)\n",
        "\n",
        "    mean_reward_list = []\n",
        "    for it in range(num_iter):\n",
        "        traj_list = [collect_trajectory(policy, max_num_steps) for _ in range(num_traj)]\n",
        "        returns = [discounted_sum_of_rewards(traj.rewards, gamma) for traj in traj_list]\n",
        "\n",
        "        policy_loss_terms = [-1. * traj.logp[j] * (returns[i][j] - value(traj.states[j]))\n",
        "                             for i, traj in enumerate(traj_list) for j in range(len(traj.actions))]\n",
        "\n",
        "        policy_loss = 1. / num_traj * torch.cat(policy_loss_terms).sum()\n",
        "        policy_optimizer.zero_grad()\n",
        "        policy_loss.backward()\n",
        "        policy_optimizer.step()\n",
        "\n",
        "        value_loss_terms = [1. / len(traj.actions) * (value(traj.states[j]) - returns[i][j])**2.\n",
        "                            for i, traj in enumerate(traj_list) for j in range(len(traj.actions))]\n",
        "        value_loss = 1. / num_traj * torch.cat(value_loss_terms).sum()\n",
        "        value_optimizer.zero_grad()\n",
        "        value_loss.backward()\n",
        "        value_optimizer.step()\n",
        "\n",
        "        mean_reward = np.mean([sum(traj.rewards) for traj in traj_list])\n",
        "        mean_reward_list.extend([sum(traj.rewards) for traj in traj_list])\n",
        "        if it % 10 == 0:\n",
        "            print('Iteration {}: Mean Reward = {}'.format(it, mean_reward))\n",
        "            torch.save(policy.state_dict(), policy_saved_path)\n",
        "            torch.save(value.state_dict(), value_saved_path)\n",
        "    return policy, mean_reward_list"
      ],
      "execution_count": null,
      "outputs": []
    },
    {
      "cell_type": "code",
      "metadata": {
        "colab": {
          "base_uri": "https://localhost:8080/"
        },
        "id": "HHtXPD1yesmY",
        "outputId": "1e53f03e-f48d-4505-9146-d28035436148"
      },
      "source": [
        "from collections import namedtuple\n",
        "import matplotlib.pyplot as plt\n",
        "import gnwrapper\n",
        "import gym\n",
        "\n",
        "env = gnwrapper.Animation(gym.make('CartPole-v1'))\n",
        "\n",
        "agent, vpg_rewards = vpg(env, num_iter=500, gamma=1.0, num_traj=1)"
      ],
      "execution_count": null,
      "outputs": [
        {
          "output_type": "stream",
          "text": [
            "Iteration 0: Mean Reward = 21.0\n",
            "Iteration 10: Mean Reward = 45.0\n",
            "Iteration 20: Mean Reward = 48.0\n",
            "Iteration 30: Mean Reward = 81.0\n",
            "Iteration 40: Mean Reward = 178.0\n",
            "Iteration 50: Mean Reward = 106.0\n",
            "Iteration 60: Mean Reward = 110.0\n",
            "Iteration 70: Mean Reward = 138.0\n",
            "Iteration 80: Mean Reward = 33.0\n",
            "Iteration 90: Mean Reward = 154.0\n",
            "Iteration 100: Mean Reward = 135.0\n",
            "Iteration 110: Mean Reward = 471.0\n",
            "Iteration 120: Mean Reward = 489.0\n",
            "Iteration 130: Mean Reward = 500.0\n",
            "Iteration 140: Mean Reward = 390.0\n",
            "Iteration 150: Mean Reward = 243.0\n",
            "Iteration 160: Mean Reward = 230.0\n",
            "Iteration 170: Mean Reward = 174.0\n",
            "Iteration 180: Mean Reward = 500.0\n",
            "Iteration 190: Mean Reward = 500.0\n",
            "Iteration 200: Mean Reward = 500.0\n",
            "Iteration 210: Mean Reward = 15.0\n",
            "Iteration 220: Mean Reward = 500.0\n",
            "Iteration 230: Mean Reward = 500.0\n",
            "Iteration 240: Mean Reward = 500.0\n",
            "Iteration 250: Mean Reward = 145.0\n",
            "Iteration 260: Mean Reward = 16.0\n",
            "Iteration 270: Mean Reward = 121.0\n",
            "Iteration 280: Mean Reward = 233.0\n",
            "Iteration 290: Mean Reward = 500.0\n",
            "Iteration 300: Mean Reward = 500.0\n",
            "Iteration 310: Mean Reward = 500.0\n",
            "Iteration 320: Mean Reward = 500.0\n",
            "Iteration 330: Mean Reward = 13.0\n",
            "Iteration 340: Mean Reward = 10.0\n",
            "Iteration 350: Mean Reward = 302.0\n",
            "Iteration 360: Mean Reward = 500.0\n",
            "Iteration 370: Mean Reward = 500.0\n",
            "Iteration 380: Mean Reward = 500.0\n",
            "Iteration 390: Mean Reward = 500.0\n",
            "Iteration 400: Mean Reward = 500.0\n",
            "Iteration 410: Mean Reward = 500.0\n",
            "Iteration 420: Mean Reward = 500.0\n",
            "Iteration 430: Mean Reward = 500.0\n",
            "Iteration 440: Mean Reward = 500.0\n",
            "Iteration 450: Mean Reward = 364.0\n",
            "Iteration 460: Mean Reward = 500.0\n",
            "Iteration 470: Mean Reward = 500.0\n",
            "Iteration 480: Mean Reward = 500.0\n",
            "Iteration 490: Mean Reward = 500.0\n"
          ],
          "name": "stdout"
        }
      ]
    },
    {
      "cell_type": "code",
      "metadata": {
        "colab": {
          "base_uri": "https://localhost:8080/",
          "height": 293
        },
        "id": "NOO1UfH2jdbw",
        "outputId": "c55c13b1-b7dc-42a7-e56e-ca0280ec493f"
      },
      "source": [
        "plt.plot(vpg_rewards, color = 'red')\n",
        "plt.xlabel('Iteration')\n",
        "plt.ylabel('Reward')\n",
        "plt.legend(loc='lower right')\n",
        "plt.savefig('vpg_rewards.png', format='png', dpi=300)"
      ],
      "execution_count": null,
      "outputs": [
        {
          "output_type": "stream",
          "text": [
            "No handles with labels found to put in legend.\n"
          ],
          "name": "stderr"
        },
        {
          "output_type": "display_data",
          "data": {
            "image/png": "[encoded data removed]",
            "text/plain": [
              "<Figure size 432x288 with 1 Axes>"
            ]
          },
          "metadata": {
            "tags": []
          }
        }
      ]
    },
    {
      "cell_type": "code",
      "metadata": {
        "id": "MjiKd-0shYsN",
        "colab": {
          "base_uri": "https://localhost:8080/",
          "height": 479
        },
        "outputId": "2586fc60-a347-43f5-c472-fbbfbeefdc5c"
      },
      "source": [
        "state = env.reset()\n",
        "for t in range(1000):\n",
        "    action = agent.get_action(state)\n",
        "    env.render()\n",
        "    state, reward, done, _ = env.step(action)\n",
        "    if done:\n",
        "        break\n",
        "env.close()"
      ],
      "execution_count": null,
      "outputs": [
        {
          "output_type": "display_data",
          "data": {
            "image/png": "[encoded data removed]",
            "text/plain": [
              "<Figure size 432x288 with 1 Axes>"
            ]
          },
          "metadata": {
            "tags": []
          }
        },
        {
          "output_type": "display_data",
          "data": {
            "image/png": "[encoded data removed]",
            "text/plain": [
              "<Figure size 432x288 with 1 Axes>"
            ]
          },
          "metadata": {
            "tags": []
          }
        }
      ]
    },
    {
      "cell_type": "markdown",
      "metadata": {
        "id": "xViqloDh1kjx"
      },
      "source": [
        "## A2C"
      ]
    },
    {
      "cell_type": "code",
      "metadata": {
        "id": "k4J-eIZ9lFO-"
      },
      "source": [
        "import torch\n",
        "from torch import nn\n",
        "from torch.distributions import Categorical\n",
        "\n",
        "class Actor(torch.nn.Module):\n",
        "    def __init__(self, input_size, output_size, hidden_layer_size=64):\n",
        "        super(Actor, self).__init__()\n",
        "        self.mlp = nn.Sequential(\n",
        "            nn.Linear(input_size, hidden_layer_size),\n",
        "            nn.ReLU(),\n",
        "            nn.Linear(hidden_layer_size, output_size),\n",
        "            nn.Softmax(dim=0)\n",
        "        )\n",
        "\n",
        "    def forward(self, x):\n",
        "        x = torch.from_numpy(x).float()\n",
        "        return self.mlp(x)\n",
        "\n",
        "    def get_action_and_log_prob(self, x):\n",
        "        action_prob = self.forward(x)\n",
        "        m = Categorical(action_prob)\n",
        "        action = m.sample()\n",
        "        logp = m.log_prob(action)\n",
        "        return action.item(), logp\n",
        "\n",
        "    def get_action(self, x):\n",
        "        action, _ = self.get_action_and_log_prob(x)\n",
        "        return action\n",
        "\n",
        "class Critic(torch.nn.Module):\n",
        "    def __init__(self, input_size, hidden_layer_size=64):\n",
        "        super(Critic, self).__init__()\n",
        "        self.mlp = nn.Sequential(\n",
        "            nn.Linear(input_size, hidden_layer_size),\n",
        "            nn.ReLU(),\n",
        "            nn.Linear(hidden_layer_size, 1)\n",
        "        )\n",
        "\n",
        "    def forward(self, x):\n",
        "        x = torch.from_numpy(x).float()\n",
        "        return self.mlp(x)\n",
        "\n",
        "class Memory():\n",
        "    def __init__(self):\n",
        "        self.log_probs = []\n",
        "        self.values = []\n",
        "        self.rewards = []\n",
        "        self.dones = []\n",
        "\n",
        "    def add(self, log_prob, value, reward, done):\n",
        "        self.log_probs.append(log_prob)\n",
        "        self.values.append(value)\n",
        "        self.rewards.append(reward)\n",
        "        self.dones.append(done)\n",
        "    \n",
        "    def clear(self):\n",
        "        self.log_probs.clear()\n",
        "        self.values.clear()\n",
        "        self.rewards.clear()\n",
        "        self.dones.clear()  \n",
        "    \n",
        "    def _zip(self):\n",
        "        return zip(self.log_probs,\n",
        "                self.values,\n",
        "                self.rewards,\n",
        "                self.dones)\n",
        "    \n",
        "    def __iter__(self):\n",
        "        for data in self._zip():\n",
        "            return data\n",
        "    \n",
        "    def reversed(self):\n",
        "        for data in list(self._zip())[::-1]:\n",
        "            yield data\n",
        "    \n",
        "    def __len__(self):\n",
        "        return len(self.rewards)"
      ],
      "execution_count": null,
      "outputs": []
    },
    {
      "cell_type": "code",
      "metadata": {
        "id": "LgoezjSV9nKk"
      },
      "source": [
        "def a2c(env, num_iter=200, max_num_steps=1000, gamma=0.99,\n",
        "        actor_learning_rate=0.01, critic_learning_rate=0.01,\n",
        "        actor_saved_path='a2c_actor.pt', critic_saved_path='a2c_critic.pt'):\n",
        "    \n",
        "    input_size = env.observation_space.shape[0]\n",
        "    output_size = env.action_space.n\n",
        "\n",
        "    actor = Actor(input_size, output_size)\n",
        "    critic = Critic(input_size)\n",
        "    actor_optimizer = torch.optim.Adam(\n",
        "        actor.parameters(), lr=actor_learning_rate)\n",
        "    critic_optimizer = torch.optim.Adam(\n",
        "        critic.parameters(), lr=critic_learning_rate)\n",
        "\n",
        "    memory = Memory()\n",
        "    reward_list = []\n",
        "    for it in range(num_iter):\n",
        "        state = env.reset()\n",
        "        done = False\n",
        "        total_reward = 0\n",
        "        steps = 0\n",
        "        while not done and steps <= max_num_steps:\n",
        "            action, log_prob = actor.get_action_and_log_prob(state)\n",
        "            newstate, reward, done, _ = env.step(action)\n",
        "            memory.add(log_prob, critic(state), reward, done)\n",
        "            steps += 1\n",
        "            total_reward += reward\n",
        "            state = newstate\n",
        "\n",
        "        last_q_val = critic(state).detach().data.numpy()\n",
        "\n",
        "        values = torch.stack(memory.values)\n",
        "        q_vals = np.zeros((len(memory), 1))\n",
        "\n",
        "        for i, (_, _, reward, done) in enumerate(memory.reversed()):\n",
        "            last_q_val = reward + gamma * last_q_val * (1.0 - done)\n",
        "            q_vals[len(memory) - 1 - i] = last_q_val\n",
        "\n",
        "        advantage = torch.Tensor(q_vals) - values\n",
        "\n",
        "        critic_loss = advantage.pow(2).mean()\n",
        "        critic_optimizer.zero_grad()\n",
        "        critic_loss.backward()\n",
        "        critic_optimizer.step()\n",
        "\n",
        "        actor_loss = (-torch.stack(memory.log_probs) * advantage.detach()).mean()\n",
        "        actor_optimizer.zero_grad()\n",
        "        actor_loss.backward()\n",
        "        actor_optimizer.step()\n",
        "\n",
        "        reward_list.append(total_reward)\n",
        "\n",
        "        if it % 10 == 0:\n",
        "            print('Iteration {}: Return = {}'.format(it, total_reward))\n",
        "            torch.save(actor.state_dict(), actor_saved_path)\n",
        "            torch.save(critic.state_dict(), critic_saved_path)\n",
        "\n",
        "        memory.clear()\n",
        "    return actor, reward_list"
      ],
      "execution_count": null,
      "outputs": []
    },
    {
      "cell_type": "code",
      "metadata": {
        "id": "ifKvRv4WsVHa",
        "colab": {
          "base_uri": "https://localhost:8080/",
          "height": 479
        },
        "outputId": "ffcf4b78-369e-4282-9d82-0e1cd66de98a"
      },
      "source": [
        "env = gnwrapper.Animation(gym.make('CartPole-v1'))\n",
        "\n",
        "agent, a2c_rewards = a2c(env, num_iter=500, gamma=0.99)\n",
        "state = env.reset()\n",
        "for t in range(1000):\n",
        "    action = agent.get_action(state)\n",
        "    env.render()\n",
        "    state, reward, done, _ = env.step(action)\n",
        "    if done:\n",
        "        break\n",
        "env.close()"
      ],
      "execution_count": null,
      "outputs": [
        {
          "output_type": "display_data",
          "data": {
            "image/png": "[encoded data removed]",
            "text/plain": [
              "<Figure size 432x288 with 1 Axes>"
            ]
          },
          "metadata": {
            "tags": []
          }
        },
        {
          "output_type": "display_data",
          "data": {
            "image/png": "[encoded data removed]",
            "text/plain": [
              "<Figure size 432x288 with 1 Axes>"
            ]
          },
          "metadata": {
            "tags": []
          }
        }
      ]
    },
    {
      "cell_type": "code",
      "metadata": {
        "id": "JmHFRDH0jv85",
        "colab": {
          "base_uri": "https://localhost:8080/",
          "height": 276
        },
        "outputId": "1058b56a-7ec2-47a1-c900-d187f4a53f58"
      },
      "source": [
        "plt.plot(a2c_rewards, label = 'A2C', color = 'blue')\n",
        "plt.xlabel('Iteration')\n",
        "plt.ylabel('Reward')\n",
        "plt.legend(loc='lower right')\n",
        "plt.savefig('a2c_rewards.png', format='png', dpi=300)"
      ],
      "execution_count": null,
      "outputs": [
        {
          "output_type": "display_data",
          "data": {
            "image/png": "[encoded data removed]",
            "text/plain": [
              "<Figure size 432x288 with 1 Axes>"
            ]
          },
          "metadata": {
            "tags": []
          }
        }
      ]
    },
    {
      "cell_type": "markdown",
      "metadata": {
        "id": "Qp199Wy834_i"
      },
      "source": [
        "## PPO"
      ]
    },
    {
      "cell_type": "code",
      "metadata": {
        "id": "3RBaJ0QUf7Ny",
        "colab": {
          "base_uri": "https://localhost:8080/",
          "height": 1000
        },
        "outputId": "b6535da0-e374-43e5-bbae-34c43fa217e4"
      },
      "source": [
        "import torch\n",
        "import gym\n",
        "import torch.optim as optim\n",
        "import torch.nn as nn\n",
        "import matplotlib.pyplot as plt\n",
        "import pandas as pd\n",
        "\n",
        "PPO_rewards = []\n",
        "\n",
        "class MlpPolicy(nn.Module):\n",
        "    def __init__(self, action_size, input_size=4):\n",
        "        super(MlpPolicy, self).__init__()\n",
        "        self.action_size = action_size\n",
        "        self.input_size = input_size\n",
        "        self.fc1 = nn.Linear(self.input_size, 24)\n",
        "        self.fc2 = nn.Linear(24, 24)\n",
        "        self.fc3_pi = nn.Linear(24, self.action_size)\n",
        "        self.fc3_v = nn.Linear(24, 1)\n",
        "        self.tanh = nn.Tanh()\n",
        "        self.relu = nn.ReLU()\n",
        "        self.softmax = nn.Softmax(dim=-1)\n",
        "\n",
        "    def pi(self, x):\n",
        "        x = self.relu(self.fc1(x))\n",
        "        x = self.relu(self.fc2(x))\n",
        "        x = self.fc3_pi(x)\n",
        "        return self.softmax(x)\n",
        "\n",
        "    def v(self, x):\n",
        "        x = self.relu(self.fc1(x))\n",
        "        x = self.relu(self.fc2(x))\n",
        "        x = self.fc3_v(x)\n",
        "        return x\n",
        "\n",
        "class AgentConfig:\n",
        "    gamma = 0.99\n",
        "    plot_every = 10\n",
        "    update_freq = 1\n",
        "    k_epoch = 3\n",
        "    learning_rate = 0.02\n",
        "    lmbda = 0.95\n",
        "    eps_clip = 0.2\n",
        "    v_coef = 1\n",
        "    entropy_coef = 0.01\n",
        "    memory_size = 400\n",
        "\n",
        "    train_cartpole = True\n",
        "\n",
        "device = torch.device(\"cuda\" if torch.cuda.is_available() else \"cpu\")\n",
        "\n",
        "\n",
        "class Agent(AgentConfig):\n",
        "    def __init__(self):\n",
        "        self.env = gym.make('CartPole-v1')\n",
        "        self.action_size = self.env.action_space.n\n",
        "        if self.train_cartpole:\n",
        "            self.policy_network = MlpPolicy(action_size=self.action_size).to(device)\n",
        "        self.optimizer = optim.Adam(self.policy_network.parameters(), lr=self.learning_rate)\n",
        "        self.scheduler = optim.lr_scheduler.StepLR(self.optimizer, step_size=self.k_epoch,\n",
        "                                                   gamma=0.999)\n",
        "        self.loss = 0\n",
        "        self.criterion = nn.MSELoss()\n",
        "        self.memory = {\n",
        "            'state': [], 'action': [], 'reward': [], 'next_state': [], 'action_prob': [], 'terminal': [], 'count': 0,\n",
        "            'advantage': [], 'td_target': torch.FloatTensor([])\n",
        "        }\n",
        "\n",
        "    def new_random_game(self):\n",
        "        self.env.reset()\n",
        "        action = self.env.action_space.sample()\n",
        "        screen, reward, terminal, info = self.env.step(action)\n",
        "        return screen, reward, action, terminal\n",
        "\n",
        "    def train(self):\n",
        "        episode = 0\n",
        "        step = 0\n",
        "        reward_history = []\n",
        "        avg_reward = []\n",
        "        solved = False\n",
        "\n",
        "        while not solved:\n",
        "            start_step = step\n",
        "            episode += 1\n",
        "            episode_length = 0\n",
        "\n",
        "            state, reward, action, terminal = self.new_random_game()\n",
        "            current_state = state\n",
        "            total_episode_reward = 1\n",
        "\n",
        "            while not solved:\n",
        "                step += 1\n",
        "                episode_length += 1\n",
        "\n",
        "                prob_a = self.policy_network.pi(torch.FloatTensor(current_state).to(device))\n",
        "\n",
        "                action = torch.distributions.Categorical(prob_a).sample().item()\n",
        "\n",
        "                state, reward, terminal, _ = self.env.step(action)\n",
        "                new_state = state\n",
        "\n",
        "                reward = -1 if terminal else reward\n",
        "\n",
        "                self.add_memory(current_state, action, reward/10.0, new_state, terminal, prob_a[action].item())\n",
        "\n",
        "                current_state = new_state\n",
        "                total_episode_reward += reward\n",
        "\n",
        "                if terminal:\n",
        "                    PPO_rewards.append(total_episode_reward)\n",
        "                    episode_length = step - start_step\n",
        "                    reward_history.append(total_episode_reward)\n",
        "                    avg_reward.append(sum(reward_history[-10:])/10.0)\n",
        "\n",
        "                    self.finish_path(episode_length)\n",
        "\n",
        "                    if len(reward_history) > 500 :\n",
        "                        solved = True\n",
        "\n",
        "                    print('episode: %.2f, total step: %.2f, last_episode length: %.2f, last_episode_reward: %.2f, '\n",
        "                          'loss: %.4f, lr: %.4f' % (episode, step, episode_length, total_episode_reward, self.loss,\n",
        "                                                    self.scheduler.get_lr()[0]))\n",
        "\n",
        "                    self.env.reset()\n",
        "\n",
        "                    break\n",
        "\n",
        "            if episode % self.update_freq == 0:\n",
        "                for _ in range(self.k_epoch):\n",
        "                    self.update_network()\n",
        "\n",
        "            if episode % self.plot_every == 0:\n",
        "                plot_graph(reward_history, avg_reward)\n",
        "\n",
        "        self.env.close()\n",
        "\n",
        "    def update_network(self):\n",
        "        pi = self.policy_network.pi(torch.FloatTensor(self.memory['state']).to(device))\n",
        "        new_probs_a = torch.gather(pi, 1, torch.tensor(self.memory['action']).to(device))\n",
        "        old_probs_a = torch.FloatTensor(self.memory['action_prob']).to(device)\n",
        "        ratio = torch.exp(torch.log(new_probs_a) - torch.log(old_probs_a))\n",
        "\n",
        "        surr1 = ratio * torch.FloatTensor(self.memory['advantage']).to(device)\n",
        "        surr2 = torch.clamp(ratio, 1 - self.eps_clip, 1 + self.eps_clip) * torch.FloatTensor(self.memory['advantage']).to(device)\n",
        "        pred_v = self.policy_network.v(torch.FloatTensor(self.memory['state']).to(device))\n",
        "        v_loss = 0.5 * (pred_v - torch.FloatTensor(self.memory['td_target']).to(device)).pow(2)  # Huber loss\n",
        "        entropy = torch.distributions.Categorical(pi).entropy()\n",
        "        entropy = torch.tensor([[e] for e in entropy]).to(device)\n",
        "        self.loss = (-torch.min(surr1, surr2) + self.v_coef * v_loss - self.entropy_coef * entropy).mean()\n",
        "\n",
        "        self.optimizer.zero_grad()\n",
        "        self.loss.backward()\n",
        "        self.optimizer.step()\n",
        "        self.scheduler.step()\n",
        "\n",
        "    def add_memory(self, s, a, r, next_s, t, prob):\n",
        "        if self.memory['count'] < self.memory_size:\n",
        "            self.memory['count'] += 1\n",
        "        else:\n",
        "            self.memory['state'] = self.memory['state'][1:]\n",
        "            self.memory['action'] = self.memory['action'][1:]\n",
        "            self.memory['reward'] = self.memory['reward'][1:]\n",
        "            self.memory['next_state'] = self.memory['next_state'][1:]\n",
        "            self.memory['terminal'] = self.memory['terminal'][1:]\n",
        "            self.memory['action_prob'] = self.memory['action_prob'][1:]\n",
        "            self.memory['advantage'] = self.memory['advantage'][1:]\n",
        "            self.memory['td_target'] = self.memory['td_target'][1:]\n",
        "\n",
        "        self.memory['state'].append(s)\n",
        "        self.memory['action'].append([a])\n",
        "        self.memory['reward'].append([r])\n",
        "        self.memory['next_state'].append(next_s)\n",
        "        self.memory['terminal'].append([1 - t])\n",
        "        self.memory['action_prob'].append(prob)\n",
        "\n",
        "    def finish_path(self, length):\n",
        "        state = self.memory['state'][-length:]\n",
        "        reward = self.memory['reward'][-length:]\n",
        "        next_state = self.memory['next_state'][-length:]\n",
        "        terminal = self.memory['terminal'][-length:]\n",
        "\n",
        "        td_target = (torch.FloatTensor(reward).to(device) + \\\n",
        "                    self.gamma * self.policy_network.v(torch.FloatTensor(next_state).to(device)) * torch.FloatTensor(terminal).to(device)).cpu()\n",
        "        delta = td_target - self.policy_network.v(torch.FloatTensor(state).to(device)).cpu()\n",
        "        delta = delta.detach().numpy()\n",
        "\n",
        "        advantages = []\n",
        "        adv = 0.0\n",
        "        for d in delta[::-1]:\n",
        "            adv = self.gamma * self.lmbda * adv + d[0]\n",
        "            advantages.append([adv])\n",
        "        advantages.reverse()\n",
        "\n",
        "        if self.memory['td_target'].shape == torch.Size([1, 0]):\n",
        "            self.memory['td_target'] = td_target.data\n",
        "        else:\n",
        "            self.memory['td_target'] = torch.cat((self.memory['td_target'], td_target.data), dim=0)\n",
        "        self.memory['advantage'] += advantages\n",
        "\n",
        "\n",
        "def plot_graph(reward_history, avg_reward):\n",
        "    df = pd.DataFrame({'x': range(len(reward_history)), 'Reward': reward_history, 'Average': avg_reward})\n",
        "    plt.style.use('seaborn-darkgrid')\n",
        "    palette = plt.get_cmap('Set1')\n",
        "\n",
        "    plt.plot(df['x'], df['Reward'], color=palette(1))\n",
        "    plt.plot(df['x'], df['Average'], marker='', color='tomato', linewidth=1, alpha=0.9, label='Average')\n",
        "    \n",
        "    plt.title(\"CartPole\", fontsize=14)\n",
        "    plt.xlabel(\"episode\", fontsize=12)\n",
        "    plt.ylabel(\"score\", fontsize=12)\n",
        "\n",
        "    plt.savefig('score.png')\n",
        "\n",
        "agent = Agent()\n",
        "agent.train()"
      ],
      "execution_count": null,
      "outputs": [
        {
          "output_type": "stream",
          "text": [
            "/usr/local/lib/python3.7/dist-packages/torch/optim/lr_scheduler.py:370: UserWarning: To get the last learning rate computed by the scheduler, please use `get_last_lr()`.\n",
            "  \"please use `get_last_lr()`.\", UserWarning)\n"
          ],
          "name": "stderr"
        },
        {
          "output_type": "stream",
          "text": [
            "episode: 1.00, total step: 15.00, last_episode length: 15.00, last_episode_reward: 14.00, loss: 0.0000, lr: 0.0200\n",
            "episode: 2.00, total step: 37.00, last_episode length: 22.00, last_episode_reward: 21.00, loss: -0.4333, lr: 0.0200\n",
            "episode: 3.00, total step: 58.00, last_episode length: 21.00, last_episode_reward: 20.00, loss: -0.5191, lr: 0.0199\n",
            "episode: 4.00, total step: 106.00, last_episode length: 48.00, last_episode_reward: 47.00, loss: -0.5213, lr: 0.0199\n",
            "episode: 5.00, total step: 131.00, last_episode length: 25.00, last_episode_reward: 24.00, loss: -0.7312, lr: 0.0199\n",
            "episode: 6.00, total step: 142.00, last_episode length: 11.00, last_episode_reward: 10.00, loss: -0.6947, lr: 0.0199\n",
            "episode: 7.00, total step: 154.00, last_episode length: 12.00, last_episode_reward: 11.00, loss: -0.6441, lr: 0.0199\n",
            "episode: 8.00, total step: 203.00, last_episode length: 49.00, last_episode_reward: 48.00, loss: -0.5998, lr: 0.0198\n",
            "episode: 9.00, total step: 231.00, last_episode length: 28.00, last_episode_reward: 27.00, loss: -0.6857, lr: 0.0198\n",
            "episode: 10.00, total step: 250.00, last_episode length: 19.00, last_episode_reward: 18.00, loss: -0.6760, lr: 0.0198\n",
            "episode: 11.00, total step: 271.00, last_episode length: 21.00, last_episode_reward: 20.00, loss: -0.6544, lr: 0.0198\n"
          ],
          "name": "stdout"
        },
        {
          "output_type": "stream",
          "text": [
            "/usr/local/lib/python3.7/dist-packages/torch/optim/lr_scheduler.py:370: UserWarning: To get the last learning rate computed by the scheduler, please use `get_last_lr()`.\n",
            "  \"please use `get_last_lr()`.\", UserWarning)\n"
          ],
          "name": "stderr"
        },
        {
          "output_type": "stream",
          "text": [
            "episode: 12.00, total step: 290.00, last_episode length: 19.00, last_episode_reward: 18.00, loss: -0.6376, lr: 0.0198\n",
            "episode: 13.00, total step: 316.00, last_episode length: 26.00, last_episode_reward: 25.00, loss: -0.6161, lr: 0.0197\n",
            "episode: 14.00, total step: 356.00, last_episode length: 40.00, last_episode_reward: 39.00, loss: -0.6085, lr: 0.0197\n",
            "episode: 15.00, total step: 398.00, last_episode length: 42.00, last_episode_reward: 41.00, loss: -0.6279, lr: 0.0197\n",
            "episode: 16.00, total step: 478.00, last_episode length: 80.00, last_episode_reward: 79.00, loss: -0.6490, lr: 0.0197\n",
            "episode: 17.00, total step: 495.00, last_episode length: 17.00, last_episode_reward: 16.00, loss: -0.7375, lr: 0.0197\n",
            "episode: 18.00, total step: 603.00, last_episode length: 108.00, last_episode_reward: 107.00, loss: -0.7020, lr: 0.0196\n",
            "episode: 19.00, total step: 629.00, last_episode length: 26.00, last_episode_reward: 25.00, loss: -0.8738, lr: 0.0196\n",
            "episode: 20.00, total step: 661.00, last_episode length: 32.00, last_episode_reward: 31.00, loss: -0.8595, lr: 0.0196\n",
            "episode: 21.00, total step: 720.00, last_episode length: 59.00, last_episode_reward: 58.00, loss: -0.8692, lr: 0.0196\n",
            "episode: 22.00, total step: 735.00, last_episode length: 15.00, last_episode_reward: 14.00, loss: -0.9450, lr: 0.0196\n"
          ],
          "name": "stdout"
        },
        {
          "output_type": "stream",
          "text": [
            "/usr/local/lib/python3.7/dist-packages/torch/optim/lr_scheduler.py:370: UserWarning: To get the last learning rate computed by the scheduler, please use `get_last_lr()`.\n",
            "  \"please use `get_last_lr()`.\", UserWarning)\n"
          ],
          "name": "stderr"
        },
        {
          "output_type": "stream",
          "text": [
            "episode: 23.00, total step: 778.00, last_episode length: 43.00, last_episode_reward: 42.00, loss: -0.9000, lr: 0.0195\n",
            "episode: 24.00, total step: 839.00, last_episode length: 61.00, last_episode_reward: 60.00, loss: -0.8915, lr: 0.0195\n",
            "episode: 25.00, total step: 882.00, last_episode length: 43.00, last_episode_reward: 42.00, loss: -0.8609, lr: 0.0195\n",
            "episode: 26.00, total step: 931.00, last_episode length: 49.00, last_episode_reward: 48.00, loss: -0.8534, lr: 0.0195\n",
            "episode: 27.00, total step: 957.00, last_episode length: 26.00, last_episode_reward: 25.00, loss: -0.8050, lr: 0.0195\n",
            "episode: 28.00, total step: 1102.00, last_episode length: 145.00, last_episode_reward: 144.00, loss: -0.7338, lr: 0.0194\n",
            "episode: 29.00, total step: 1203.00, last_episode length: 101.00, last_episode_reward: 100.00, loss: -0.8920, lr: 0.0194\n",
            "episode: 30.00, total step: 1298.00, last_episode length: 95.00, last_episode_reward: 94.00, loss: -1.0032, lr: 0.0194\n"
          ],
          "name": "stdout"
        },
        {
          "output_type": "stream",
          "text": [
            "/usr/local/lib/python3.7/dist-packages/torch/optim/lr_scheduler.py:370: UserWarning: To get the last learning rate computed by the scheduler, please use `get_last_lr()`.\n",
            "  \"please use `get_last_lr()`.\", UserWarning)\n"
          ],
          "name": "stderr"
        },
        {
          "output_type": "stream",
          "text": [
            "episode: 31.00, total step: 1349.00, last_episode length: 51.00, last_episode_reward: 50.00, loss: -1.0681, lr: 0.0194\n",
            "episode: 32.00, total step: 1391.00, last_episode length: 42.00, last_episode_reward: 41.00, loss: -1.0909, lr: 0.0194\n",
            "episode: 33.00, total step: 1628.00, last_episode length: 237.00, last_episode_reward: 236.00, loss: -1.0328, lr: 0.0194\n",
            "episode: 34.00, total step: 1701.00, last_episode length: 73.00, last_episode_reward: 72.00, loss: -1.0922, lr: 0.0193\n",
            "episode: 35.00, total step: 1746.00, last_episode length: 45.00, last_episode_reward: 44.00, loss: -1.0801, lr: 0.0193\n",
            "episode: 36.00, total step: 1809.00, last_episode length: 63.00, last_episode_reward: 62.00, loss: -1.0659, lr: 0.0193\n",
            "episode: 37.00, total step: 1918.00, last_episode length: 109.00, last_episode_reward: 108.00, loss: -1.0709, lr: 0.0193\n",
            "episode: 38.00, total step: 2006.00, last_episode length: 88.00, last_episode_reward: 87.00, loss: -0.9682, lr: 0.0193\n",
            "episode: 39.00, total step: 2080.00, last_episode length: 74.00, last_episode_reward: 73.00, loss: -0.8722, lr: 0.0192\n",
            "episode: 40.00, total step: 2138.00, last_episode length: 58.00, last_episode_reward: 57.00, loss: -0.8579, lr: 0.0192\n"
          ],
          "name": "stdout"
        },
        {
          "output_type": "stream",
          "text": [
            "/usr/local/lib/python3.7/dist-packages/torch/optim/lr_scheduler.py:370: UserWarning: To get the last learning rate computed by the scheduler, please use `get_last_lr()`.\n",
            "  \"please use `get_last_lr()`.\", UserWarning)\n"
          ],
          "name": "stderr"
        },
        {
          "output_type": "stream",
          "text": [
            "episode: 41.00, total step: 2215.00, last_episode length: 77.00, last_episode_reward: 76.00, loss: -0.8752, lr: 0.0192\n",
            "episode: 42.00, total step: 2286.00, last_episode length: 71.00, last_episode_reward: 70.00, loss: -0.8858, lr: 0.0192\n",
            "episode: 43.00, total step: 2313.00, last_episode length: 27.00, last_episode_reward: 26.00, loss: -0.7761, lr: 0.0192\n",
            "episode: 44.00, total step: 2388.00, last_episode length: 75.00, last_episode_reward: 74.00, loss: -0.7409, lr: 0.0191\n",
            "episode: 45.00, total step: 2399.00, last_episode length: 11.00, last_episode_reward: 10.00, loss: -0.7023, lr: 0.0191\n",
            "episode: 46.00, total step: 2459.00, last_episode length: 60.00, last_episode_reward: 59.00, loss: -0.6853, lr: 0.0191\n",
            "episode: 47.00, total step: 2522.00, last_episode length: 63.00, last_episode_reward: 62.00, loss: -0.6389, lr: 0.0191\n",
            "episode: 48.00, total step: 2618.00, last_episode length: 96.00, last_episode_reward: 95.00, loss: -0.6611, lr: 0.0191\n",
            "episode: 49.00, total step: 2692.00, last_episode length: 74.00, last_episode_reward: 73.00, loss: -0.7183, lr: 0.0190\n",
            "episode: 50.00, total step: 2743.00, last_episode length: 51.00, last_episode_reward: 50.00, loss: -0.7289, lr: 0.0190\n"
          ],
          "name": "stdout"
        },
        {
          "output_type": "stream",
          "text": [
            "/usr/local/lib/python3.7/dist-packages/torch/optim/lr_scheduler.py:370: UserWarning: To get the last learning rate computed by the scheduler, please use `get_last_lr()`.\n",
            "  \"please use `get_last_lr()`.\", UserWarning)\n"
          ],
          "name": "stderr"
        },
        {
          "output_type": "stream",
          "text": [
            "episode: 51.00, total step: 2925.00, last_episode length: 182.00, last_episode_reward: 181.00, loss: -0.7136, lr: 0.0190\n",
            "episode: 52.00, total step: 3112.00, last_episode length: 187.00, last_episode_reward: 186.00, loss: -0.9550, lr: 0.0190\n",
            "episode: 53.00, total step: 3277.00, last_episode length: 165.00, last_episode_reward: 164.00, loss: -1.0628, lr: 0.0190\n",
            "episode: 54.00, total step: 3414.00, last_episode length: 137.00, last_episode_reward: 136.00, loss: -1.0276, lr: 0.0189\n",
            "episode: 55.00, total step: 3626.00, last_episode length: 212.00, last_episode_reward: 211.00, loss: -1.0070, lr: 0.0189\n",
            "episode: 56.00, total step: 3743.00, last_episode length: 117.00, last_episode_reward: 116.00, loss: -0.9875, lr: 0.0189\n",
            "episode: 57.00, total step: 3889.00, last_episode length: 146.00, last_episode_reward: 145.00, loss: -0.9870, lr: 0.0189\n",
            "episode: 58.00, total step: 4011.00, last_episode length: 122.00, last_episode_reward: 121.00, loss: -0.9729, lr: 0.0189\n",
            "episode: 59.00, total step: 4110.00, last_episode length: 99.00, last_episode_reward: 98.00, loss: -0.8964, lr: 0.0189\n",
            "episode: 60.00, total step: 4250.00, last_episode length: 140.00, last_episode_reward: 139.00, loss: -0.8598, lr: 0.0188\n"
          ],
          "name": "stdout"
        },
        {
          "output_type": "stream",
          "text": [
            "/usr/local/lib/python3.7/dist-packages/torch/optim/lr_scheduler.py:370: UserWarning: To get the last learning rate computed by the scheduler, please use `get_last_lr()`.\n",
            "  \"please use `get_last_lr()`.\", UserWarning)\n"
          ],
          "name": "stderr"
        },
        {
          "output_type": "stream",
          "text": [
            "episode: 61.00, total step: 4416.00, last_episode length: 166.00, last_episode_reward: 165.00, loss: -0.8447, lr: 0.0188\n",
            "episode: 62.00, total step: 4563.00, last_episode length: 147.00, last_episode_reward: 146.00, loss: -0.9353, lr: 0.0188\n",
            "episode: 63.00, total step: 4730.00, last_episode length: 167.00, last_episode_reward: 166.00, loss: -0.9284, lr: 0.0188\n",
            "episode: 64.00, total step: 4908.00, last_episode length: 178.00, last_episode_reward: 177.00, loss: -0.9271, lr: 0.0188\n",
            "episode: 65.00, total step: 5082.00, last_episode length: 174.00, last_episode_reward: 173.00, loss: -0.9183, lr: 0.0187\n",
            "episode: 66.00, total step: 5250.00, last_episode length: 168.00, last_episode_reward: 167.00, loss: -0.9228, lr: 0.0187\n",
            "episode: 67.00, total step: 5430.00, last_episode length: 180.00, last_episode_reward: 179.00, loss: -0.8998, lr: 0.0187\n",
            "episode: 68.00, total step: 5609.00, last_episode length: 179.00, last_episode_reward: 178.00, loss: -0.8926, lr: 0.0187\n",
            "episode: 69.00, total step: 5805.00, last_episode length: 196.00, last_episode_reward: 195.00, loss: -0.9024, lr: 0.0187\n",
            "episode: 70.00, total step: 5994.00, last_episode length: 189.00, last_episode_reward: 188.00, loss: -0.8998, lr: 0.0186\n"
          ],
          "name": "stdout"
        },
        {
          "output_type": "stream",
          "text": [
            "/usr/local/lib/python3.7/dist-packages/torch/optim/lr_scheduler.py:370: UserWarning: To get the last learning rate computed by the scheduler, please use `get_last_lr()`.\n",
            "  \"please use `get_last_lr()`.\", UserWarning)\n"
          ],
          "name": "stderr"
        },
        {
          "output_type": "stream",
          "text": [
            "episode: 71.00, total step: 6206.00, last_episode length: 212.00, last_episode_reward: 211.00, loss: -0.9087, lr: 0.0186\n",
            "episode: 72.00, total step: 6393.00, last_episode length: 187.00, last_episode_reward: 186.00, loss: -0.9804, lr: 0.0186\n",
            "episode: 73.00, total step: 6602.00, last_episode length: 209.00, last_episode_reward: 208.00, loss: -0.9741, lr: 0.0186\n",
            "episode: 74.00, total step: 6817.00, last_episode length: 215.00, last_episode_reward: 214.00, loss: -0.9551, lr: 0.0186\n",
            "episode: 75.00, total step: 7006.00, last_episode length: 189.00, last_episode_reward: 188.00, loss: -0.9758, lr: 0.0186\n",
            "episode: 76.00, total step: 7244.00, last_episode length: 238.00, last_episode_reward: 237.00, loss: -0.9712, lr: 0.0185\n",
            "episode: 77.00, total step: 7470.00, last_episode length: 226.00, last_episode_reward: 225.00, loss: -0.9326, lr: 0.0185\n",
            "episode: 78.00, total step: 7677.00, last_episode length: 207.00, last_episode_reward: 206.00, loss: -0.9163, lr: 0.0185\n",
            "episode: 79.00, total step: 7878.00, last_episode length: 201.00, last_episode_reward: 200.00, loss: -0.9109, lr: 0.0185\n",
            "episode: 80.00, total step: 8109.00, last_episode length: 231.00, last_episode_reward: 230.00, loss: -0.8965, lr: 0.0185\n"
          ],
          "name": "stdout"
        },
        {
          "output_type": "stream",
          "text": [
            "/usr/local/lib/python3.7/dist-packages/torch/optim/lr_scheduler.py:370: UserWarning: To get the last learning rate computed by the scheduler, please use `get_last_lr()`.\n",
            "  \"please use `get_last_lr()`.\", UserWarning)\n"
          ],
          "name": "stderr"
        },
        {
          "output_type": "stream",
          "text": [
            "episode: 81.00, total step: 8313.00, last_episode length: 204.00, last_episode_reward: 203.00, loss: -0.8998, lr: 0.0184\n",
            "episode: 82.00, total step: 8590.00, last_episode length: 277.00, last_episode_reward: 276.00, loss: -0.9201, lr: 0.0184\n",
            "episode: 83.00, total step: 8839.00, last_episode length: 249.00, last_episode_reward: 248.00, loss: -0.9200, lr: 0.0184\n",
            "episode: 84.00, total step: 9115.00, last_episode length: 276.00, last_episode_reward: 275.00, loss: -0.8901, lr: 0.0184\n",
            "episode: 85.00, total step: 9500.00, last_episode length: 385.00, last_episode_reward: 384.00, loss: -0.8775, lr: 0.0184\n",
            "episode: 86.00, total step: 9663.00, last_episode length: 163.00, last_episode_reward: 162.00, loss: -0.9334, lr: 0.0184\n",
            "episode: 87.00, total step: 9970.00, last_episode length: 307.00, last_episode_reward: 306.00, loss: -0.8820, lr: 0.0183\n",
            "episode: 88.00, total step: 10359.00, last_episode length: 389.00, last_episode_reward: 388.00, loss: -0.8629, lr: 0.0183\n",
            "episode: 89.00, total step: 10540.00, last_episode length: 181.00, last_episode_reward: 180.00, loss: -0.9230, lr: 0.0183\n",
            "episode: 90.00, total step: 10825.00, last_episode length: 285.00, last_episode_reward: 284.00, loss: -0.8413, lr: 0.0183\n"
          ],
          "name": "stdout"
        },
        {
          "output_type": "stream",
          "text": [
            "/usr/local/lib/python3.7/dist-packages/torch/optim/lr_scheduler.py:370: UserWarning: To get the last learning rate computed by the scheduler, please use `get_last_lr()`.\n",
            "  \"please use `get_last_lr()`.\", UserWarning)\n"
          ],
          "name": "stderr"
        },
        {
          "output_type": "stream",
          "text": [
            "episode: 91.00, total step: 11170.00, last_episode length: 345.00, last_episode_reward: 344.00, loss: -0.8528, lr: 0.0183\n",
            "episode: 92.00, total step: 11669.00, last_episode length: 499.00, last_episode_reward: 498.00, loss: -0.8435, lr: 0.0182\n",
            "episode: 93.00, total step: 12062.00, last_episode length: 393.00, last_episode_reward: 392.00, loss: -0.8006, lr: 0.0182\n",
            "episode: 94.00, total step: 12561.00, last_episode length: 499.00, last_episode_reward: 498.00, loss: -0.7200, lr: 0.0182\n",
            "episode: 95.00, total step: 13060.00, last_episode length: 499.00, last_episode_reward: 498.00, loss: -0.8932, lr: 0.0182\n",
            "episode: 96.00, total step: 13307.00, last_episode length: 247.00, last_episode_reward: 246.00, loss: -0.7208, lr: 0.0182\n",
            "episode: 97.00, total step: 13521.00, last_episode length: 214.00, last_episode_reward: 213.00, loss: -0.6399, lr: 0.0182\n",
            "episode: 98.00, total step: 13769.00, last_episode length: 248.00, last_episode_reward: 247.00, loss: -0.8130, lr: 0.0181\n",
            "episode: 99.00, total step: 13997.00, last_episode length: 228.00, last_episode_reward: 227.00, loss: -0.8353, lr: 0.0181\n",
            "episode: 100.00, total step: 14243.00, last_episode length: 246.00, last_episode_reward: 245.00, loss: -0.8275, lr: 0.0181\n"
          ],
          "name": "stdout"
        },
        {
          "output_type": "stream",
          "text": [
            "/usr/local/lib/python3.7/dist-packages/torch/optim/lr_scheduler.py:370: UserWarning: To get the last learning rate computed by the scheduler, please use `get_last_lr()`.\n",
            "  \"please use `get_last_lr()`.\", UserWarning)\n"
          ],
          "name": "stderr"
        },
        {
          "output_type": "stream",
          "text": [
            "episode: 101.00, total step: 14585.00, last_episode length: 342.00, last_episode_reward: 341.00, loss: -0.8338, lr: 0.0181\n",
            "episode: 102.00, total step: 14923.00, last_episode length: 338.00, last_episode_reward: 337.00, loss: -0.8439, lr: 0.0181\n",
            "episode: 103.00, total step: 15234.00, last_episode length: 311.00, last_episode_reward: 310.00, loss: -0.8537, lr: 0.0180\n",
            "episode: 104.00, total step: 15572.00, last_episode length: 338.00, last_episode_reward: 337.00, loss: -0.8386, lr: 0.0180\n",
            "episode: 105.00, total step: 16071.00, last_episode length: 499.00, last_episode_reward: 498.00, loss: -0.8321, lr: 0.0180\n",
            "episode: 106.00, total step: 16370.00, last_episode length: 299.00, last_episode_reward: 298.00, loss: -0.6816, lr: 0.0180\n",
            "episode: 107.00, total step: 16747.00, last_episode length: 377.00, last_episode_reward: 376.00, loss: -0.6224, lr: 0.0180\n",
            "episode: 108.00, total step: 17094.00, last_episode length: 347.00, last_episode_reward: 346.00, loss: -0.8397, lr: 0.0180\n",
            "episode: 109.00, total step: 17593.00, last_episode length: 499.00, last_episode_reward: 498.00, loss: -0.7954, lr: 0.0179\n",
            "episode: 110.00, total step: 18092.00, last_episode length: 499.00, last_episode_reward: 498.00, loss: -0.6414, lr: 0.0179\n"
          ],
          "name": "stdout"
        },
        {
          "output_type": "stream",
          "text": [
            "/usr/local/lib/python3.7/dist-packages/torch/optim/lr_scheduler.py:370: UserWarning: To get the last learning rate computed by the scheduler, please use `get_last_lr()`.\n",
            "  \"please use `get_last_lr()`.\", UserWarning)\n"
          ],
          "name": "stderr"
        },
        {
          "output_type": "stream",
          "text": [
            "episode: 111.00, total step: 18591.00, last_episode length: 499.00, last_episode_reward: 498.00, loss: -0.6506, lr: 0.0179\n",
            "episode: 112.00, total step: 19090.00, last_episode length: 499.00, last_episode_reward: 498.00, loss: -0.9028, lr: 0.0179\n",
            "episode: 113.00, total step: 19424.00, last_episode length: 334.00, last_episode_reward: 333.00, loss: -0.5689, lr: 0.0179\n",
            "episode: 114.00, total step: 19923.00, last_episode length: 499.00, last_episode_reward: 498.00, loss: -0.5344, lr: 0.0178\n",
            "episode: 115.00, total step: 20322.00, last_episode length: 399.00, last_episode_reward: 398.00, loss: -0.5787, lr: 0.0178\n",
            "episode: 116.00, total step: 20716.00, last_episode length: 394.00, last_episode_reward: 393.00, loss: -0.7895, lr: 0.0178\n",
            "episode: 117.00, total step: 21215.00, last_episode length: 499.00, last_episode_reward: 498.00, loss: -0.8158, lr: 0.0178\n",
            "episode: 118.00, total step: 21560.00, last_episode length: 345.00, last_episode_reward: 344.00, loss: -0.8052, lr: 0.0178\n",
            "episode: 119.00, total step: 22059.00, last_episode length: 499.00, last_episode_reward: 498.00, loss: -0.6732, lr: 0.0178\n",
            "episode: 120.00, total step: 22414.00, last_episode length: 355.00, last_episode_reward: 354.00, loss: -0.7961, lr: 0.0177\n"
          ],
          "name": "stdout"
        },
        {
          "output_type": "stream",
          "text": [
            "/usr/local/lib/python3.7/dist-packages/torch/optim/lr_scheduler.py:370: UserWarning: To get the last learning rate computed by the scheduler, please use `get_last_lr()`.\n",
            "  \"please use `get_last_lr()`.\", UserWarning)\n"
          ],
          "name": "stderr"
        },
        {
          "output_type": "stream",
          "text": [
            "episode: 121.00, total step: 22913.00, last_episode length: 499.00, last_episode_reward: 498.00, loss: -0.6129, lr: 0.0177\n",
            "episode: 122.00, total step: 23412.00, last_episode length: 499.00, last_episode_reward: 498.00, loss: -0.6234, lr: 0.0177\n",
            "episode: 123.00, total step: 23911.00, last_episode length: 499.00, last_episode_reward: 498.00, loss: -0.7670, lr: 0.0177\n",
            "episode: 124.00, total step: 24410.00, last_episode length: 499.00, last_episode_reward: 498.00, loss: -0.7158, lr: 0.0177\n",
            "episode: 125.00, total step: 24909.00, last_episode length: 499.00, last_episode_reward: 498.00, loss: -0.5646, lr: 0.0176\n",
            "episode: 126.00, total step: 25301.00, last_episode length: 392.00, last_episode_reward: 391.00, loss: -0.5311, lr: 0.0176\n",
            "episode: 127.00, total step: 25720.00, last_episode length: 419.00, last_episode_reward: 418.00, loss: -0.6293, lr: 0.0176\n",
            "episode: 128.00, total step: 26219.00, last_episode length: 499.00, last_episode_reward: 498.00, loss: -0.7483, lr: 0.0176\n",
            "episode: 129.00, total step: 26718.00, last_episode length: 499.00, last_episode_reward: 498.00, loss: -0.5008, lr: 0.0176\n",
            "episode: 130.00, total step: 27217.00, last_episode length: 499.00, last_episode_reward: 498.00, loss: -0.4876, lr: 0.0176\n"
          ],
          "name": "stdout"
        },
        {
          "output_type": "stream",
          "text": [
            "/usr/local/lib/python3.7/dist-packages/torch/optim/lr_scheduler.py:370: UserWarning: To get the last learning rate computed by the scheduler, please use `get_last_lr()`.\n",
            "  \"please use `get_last_lr()`.\", UserWarning)\n"
          ],
          "name": "stderr"
        },
        {
          "output_type": "stream",
          "text": [
            "episode: 131.00, total step: 27716.00, last_episode length: 499.00, last_episode_reward: 498.00, loss: -0.3785, lr: 0.0175\n",
            "episode: 132.00, total step: 28215.00, last_episode length: 499.00, last_episode_reward: 498.00, loss: -0.4174, lr: 0.0175\n",
            "episode: 133.00, total step: 28714.00, last_episode length: 499.00, last_episode_reward: 498.00, loss: -0.5667, lr: 0.0175\n",
            "episode: 134.00, total step: 29213.00, last_episode length: 499.00, last_episode_reward: 498.00, loss: -0.3918, lr: 0.0175\n",
            "episode: 135.00, total step: 29712.00, last_episode length: 499.00, last_episode_reward: 498.00, loss: -0.4736, lr: 0.0175\n",
            "episode: 136.00, total step: 30211.00, last_episode length: 499.00, last_episode_reward: 498.00, loss: -0.4093, lr: 0.0175\n",
            "episode: 137.00, total step: 30710.00, last_episode length: 499.00, last_episode_reward: 498.00, loss: -0.4156, lr: 0.0174\n",
            "episode: 138.00, total step: 31209.00, last_episode length: 499.00, last_episode_reward: 498.00, loss: -0.4221, lr: 0.0174\n",
            "episode: 139.00, total step: 31708.00, last_episode length: 499.00, last_episode_reward: 498.00, loss: -0.2080, lr: 0.0174\n",
            "episode: 140.00, total step: 32207.00, last_episode length: 499.00, last_episode_reward: 498.00, loss: -0.6005, lr: 0.0174\n"
          ],
          "name": "stdout"
        },
        {
          "output_type": "stream",
          "text": [
            "/usr/local/lib/python3.7/dist-packages/torch/optim/lr_scheduler.py:370: UserWarning: To get the last learning rate computed by the scheduler, please use `get_last_lr()`.\n",
            "  \"please use `get_last_lr()`.\", UserWarning)\n"
          ],
          "name": "stderr"
        },
        {
          "output_type": "stream",
          "text": [
            "episode: 141.00, total step: 32706.00, last_episode length: 499.00, last_episode_reward: 498.00, loss: -0.3471, lr: 0.0174\n",
            "episode: 142.00, total step: 33205.00, last_episode length: 499.00, last_episode_reward: 498.00, loss: -0.6918, lr: 0.0174\n",
            "episode: 143.00, total step: 33704.00, last_episode length: 499.00, last_episode_reward: 498.00, loss: -0.1256, lr: 0.0173\n",
            "episode: 144.00, total step: 34203.00, last_episode length: 499.00, last_episode_reward: 498.00, loss: -0.2398, lr: 0.0173\n",
            "episode: 145.00, total step: 34702.00, last_episode length: 499.00, last_episode_reward: 498.00, loss: -0.2490, lr: 0.0173\n",
            "episode: 146.00, total step: 35201.00, last_episode length: 499.00, last_episode_reward: 498.00, loss: -0.2252, lr: 0.0173\n",
            "episode: 147.00, total step: 35700.00, last_episode length: 499.00, last_episode_reward: 498.00, loss: -0.2047, lr: 0.0173\n",
            "episode: 148.00, total step: 36199.00, last_episode length: 499.00, last_episode_reward: 498.00, loss: -0.2918, lr: 0.0172\n",
            "episode: 149.00, total step: 36698.00, last_episode length: 499.00, last_episode_reward: 498.00, loss: -0.1061, lr: 0.0172\n",
            "episode: 150.00, total step: 37197.00, last_episode length: 499.00, last_episode_reward: 498.00, loss: -0.2236, lr: 0.0172\n"
          ],
          "name": "stdout"
        },
        {
          "output_type": "stream",
          "text": [
            "/usr/local/lib/python3.7/dist-packages/torch/optim/lr_scheduler.py:370: UserWarning: To get the last learning rate computed by the scheduler, please use `get_last_lr()`.\n",
            "  \"please use `get_last_lr()`.\", UserWarning)\n"
          ],
          "name": "stderr"
        },
        {
          "output_type": "stream",
          "text": [
            "episode: 151.00, total step: 37696.00, last_episode length: 499.00, last_episode_reward: 498.00, loss: -0.1525, lr: 0.0172\n",
            "episode: 152.00, total step: 38195.00, last_episode length: 499.00, last_episode_reward: 498.00, loss: -0.1524, lr: 0.0172\n",
            "episode: 153.00, total step: 38694.00, last_episode length: 499.00, last_episode_reward: 498.00, loss: -0.1903, lr: 0.0172\n",
            "episode: 154.00, total step: 39193.00, last_episode length: 499.00, last_episode_reward: 498.00, loss: -0.5094, lr: 0.0171\n",
            "episode: 155.00, total step: 39692.00, last_episode length: 499.00, last_episode_reward: 498.00, loss: -0.1580, lr: 0.0171\n",
            "episode: 156.00, total step: 40191.00, last_episode length: 499.00, last_episode_reward: 498.00, loss: -0.1131, lr: 0.0171\n",
            "episode: 157.00, total step: 40690.00, last_episode length: 499.00, last_episode_reward: 498.00, loss: -0.1244, lr: 0.0171\n",
            "episode: 158.00, total step: 41189.00, last_episode length: 499.00, last_episode_reward: 498.00, loss: -0.1890, lr: 0.0171\n",
            "episode: 159.00, total step: 41688.00, last_episode length: 499.00, last_episode_reward: 498.00, loss: -0.1437, lr: 0.0171\n",
            "episode: 160.00, total step: 42187.00, last_episode length: 499.00, last_episode_reward: 498.00, loss: -0.4507, lr: 0.0170\n"
          ],
          "name": "stdout"
        },
        {
          "output_type": "stream",
          "text": [
            "/usr/local/lib/python3.7/dist-packages/torch/optim/lr_scheduler.py:370: UserWarning: To get the last learning rate computed by the scheduler, please use `get_last_lr()`.\n",
            "  \"please use `get_last_lr()`.\", UserWarning)\n"
          ],
          "name": "stderr"
        },
        {
          "output_type": "stream",
          "text": [
            "episode: 161.00, total step: 42686.00, last_episode length: 499.00, last_episode_reward: 498.00, loss: -0.1631, lr: 0.0170\n",
            "episode: 162.00, total step: 43185.00, last_episode length: 499.00, last_episode_reward: 498.00, loss: -0.4394, lr: 0.0170\n",
            "episode: 163.00, total step: 43684.00, last_episode length: 499.00, last_episode_reward: 498.00, loss: -0.0886, lr: 0.0170\n",
            "episode: 164.00, total step: 44183.00, last_episode length: 499.00, last_episode_reward: 498.00, loss: -0.0931, lr: 0.0170\n",
            "episode: 165.00, total step: 44682.00, last_episode length: 499.00, last_episode_reward: 498.00, loss: -0.0183, lr: 0.0170\n",
            "episode: 166.00, total step: 45181.00, last_episode length: 499.00, last_episode_reward: 498.00, loss: -0.1148, lr: 0.0169\n",
            "episode: 167.00, total step: 45680.00, last_episode length: 499.00, last_episode_reward: 498.00, loss: -0.0369, lr: 0.0169\n",
            "episode: 168.00, total step: 46179.00, last_episode length: 499.00, last_episode_reward: 498.00, loss: -0.3093, lr: 0.0169\n",
            "episode: 169.00, total step: 46678.00, last_episode length: 499.00, last_episode_reward: 498.00, loss: -0.0027, lr: 0.0169\n",
            "episode: 170.00, total step: 47177.00, last_episode length: 499.00, last_episode_reward: 498.00, loss: 0.0310, lr: 0.0169\n"
          ],
          "name": "stdout"
        },
        {
          "output_type": "stream",
          "text": [
            "/usr/local/lib/python3.7/dist-packages/torch/optim/lr_scheduler.py:370: UserWarning: To get the last learning rate computed by the scheduler, please use `get_last_lr()`.\n",
            "  \"please use `get_last_lr()`.\", UserWarning)\n"
          ],
          "name": "stderr"
        },
        {
          "output_type": "stream",
          "text": [
            "episode: 171.00, total step: 47676.00, last_episode length: 499.00, last_episode_reward: 498.00, loss: 0.0591, lr: 0.0169\n",
            "episode: 172.00, total step: 48175.00, last_episode length: 499.00, last_episode_reward: 498.00, loss: -0.0400, lr: 0.0168\n",
            "episode: 173.00, total step: 48674.00, last_episode length: 499.00, last_episode_reward: 498.00, loss: -0.0874, lr: 0.0168\n",
            "episode: 174.00, total step: 49173.00, last_episode length: 499.00, last_episode_reward: 498.00, loss: -0.0357, lr: 0.0168\n",
            "episode: 175.00, total step: 49672.00, last_episode length: 499.00, last_episode_reward: 498.00, loss: 0.0868, lr: 0.0168\n",
            "episode: 176.00, total step: 50171.00, last_episode length: 499.00, last_episode_reward: 498.00, loss: -0.1469, lr: 0.0168\n",
            "episode: 177.00, total step: 50670.00, last_episode length: 499.00, last_episode_reward: 498.00, loss: 0.2466, lr: 0.0168\n",
            "episode: 178.00, total step: 51169.00, last_episode length: 499.00, last_episode_reward: 498.00, loss: -0.0679, lr: 0.0167\n",
            "episode: 179.00, total step: 51668.00, last_episode length: 499.00, last_episode_reward: 498.00, loss: 0.1831, lr: 0.0167\n",
            "episode: 180.00, total step: 52167.00, last_episode length: 499.00, last_episode_reward: 498.00, loss: -0.1604, lr: 0.0167\n"
          ],
          "name": "stdout"
        },
        {
          "output_type": "stream",
          "text": [
            "/usr/local/lib/python3.7/dist-packages/torch/optim/lr_scheduler.py:370: UserWarning: To get the last learning rate computed by the scheduler, please use `get_last_lr()`.\n",
            "  \"please use `get_last_lr()`.\", UserWarning)\n"
          ],
          "name": "stderr"
        },
        {
          "output_type": "stream",
          "text": [
            "episode: 181.00, total step: 52666.00, last_episode length: 499.00, last_episode_reward: 498.00, loss: -0.0133, lr: 0.0167\n",
            "episode: 182.00, total step: 53165.00, last_episode length: 499.00, last_episode_reward: 498.00, loss: 0.0217, lr: 0.0167\n",
            "episode: 183.00, total step: 53664.00, last_episode length: 499.00, last_episode_reward: 498.00, loss: 0.2016, lr: 0.0167\n",
            "episode: 184.00, total step: 54163.00, last_episode length: 499.00, last_episode_reward: 498.00, loss: 0.0584, lr: 0.0166\n",
            "episode: 185.00, total step: 54662.00, last_episode length: 499.00, last_episode_reward: 498.00, loss: 0.0232, lr: 0.0166\n",
            "episode: 186.00, total step: 55161.00, last_episode length: 499.00, last_episode_reward: 498.00, loss: -0.5413, lr: 0.0166\n",
            "episode: 187.00, total step: 55660.00, last_episode length: 499.00, last_episode_reward: 498.00, loss: 0.1695, lr: 0.0166\n",
            "episode: 188.00, total step: 56159.00, last_episode length: 499.00, last_episode_reward: 498.00, loss: 0.2018, lr: 0.0166\n",
            "episode: 189.00, total step: 56658.00, last_episode length: 499.00, last_episode_reward: 498.00, loss: -0.0488, lr: 0.0166\n",
            "episode: 190.00, total step: 57157.00, last_episode length: 499.00, last_episode_reward: 498.00, loss: -0.3113, lr: 0.0165\n"
          ],
          "name": "stdout"
        },
        {
          "output_type": "stream",
          "text": [
            "/usr/local/lib/python3.7/dist-packages/torch/optim/lr_scheduler.py:370: UserWarning: To get the last learning rate computed by the scheduler, please use `get_last_lr()`.\n",
            "  \"please use `get_last_lr()`.\", UserWarning)\n"
          ],
          "name": "stderr"
        },
        {
          "output_type": "stream",
          "text": [
            "episode: 191.00, total step: 57656.00, last_episode length: 499.00, last_episode_reward: 498.00, loss: -0.0503, lr: 0.0165\n",
            "episode: 192.00, total step: 58155.00, last_episode length: 499.00, last_episode_reward: 498.00, loss: -0.5347, lr: 0.0165\n",
            "episode: 193.00, total step: 58654.00, last_episode length: 499.00, last_episode_reward: 498.00, loss: -0.0067, lr: 0.0165\n",
            "episode: 194.00, total step: 59153.00, last_episode length: 499.00, last_episode_reward: 498.00, loss: 0.0144, lr: 0.0165\n",
            "episode: 195.00, total step: 59652.00, last_episode length: 499.00, last_episode_reward: 498.00, loss: 0.1995, lr: 0.0165\n",
            "episode: 196.00, total step: 60151.00, last_episode length: 499.00, last_episode_reward: 498.00, loss: 0.0314, lr: 0.0164\n",
            "episode: 197.00, total step: 60650.00, last_episode length: 499.00, last_episode_reward: 498.00, loss: -0.1257, lr: 0.0164\n",
            "episode: 198.00, total step: 61149.00, last_episode length: 499.00, last_episode_reward: 498.00, loss: 0.1129, lr: 0.0164\n",
            "episode: 199.00, total step: 61648.00, last_episode length: 499.00, last_episode_reward: 498.00, loss: 0.0183, lr: 0.0164\n",
            "episode: 200.00, total step: 62147.00, last_episode length: 499.00, last_episode_reward: 498.00, loss: -0.1147, lr: 0.0164\n"
          ],
          "name": "stdout"
        },
        {
          "output_type": "stream",
          "text": [
            "/usr/local/lib/python3.7/dist-packages/torch/optim/lr_scheduler.py:370: UserWarning: To get the last learning rate computed by the scheduler, please use `get_last_lr()`.\n",
            "  \"please use `get_last_lr()`.\", UserWarning)\n"
          ],
          "name": "stderr"
        },
        {
          "output_type": "stream",
          "text": [
            "episode: 201.00, total step: 62646.00, last_episode length: 499.00, last_episode_reward: 498.00, loss: 0.2176, lr: 0.0164\n",
            "episode: 202.00, total step: 63145.00, last_episode length: 499.00, last_episode_reward: 498.00, loss: -0.6043, lr: 0.0163\n",
            "episode: 203.00, total step: 63644.00, last_episode length: 499.00, last_episode_reward: 498.00, loss: 0.1714, lr: 0.0163\n",
            "episode: 204.00, total step: 64143.00, last_episode length: 499.00, last_episode_reward: 498.00, loss: -0.1239, lr: 0.0163\n",
            "episode: 205.00, total step: 64642.00, last_episode length: 499.00, last_episode_reward: 498.00, loss: -0.3027, lr: 0.0163\n",
            "episode: 206.00, total step: 65141.00, last_episode length: 499.00, last_episode_reward: 498.00, loss: -0.4496, lr: 0.0163\n",
            "episode: 207.00, total step: 65640.00, last_episode length: 499.00, last_episode_reward: 498.00, loss: -0.0006, lr: 0.0163\n",
            "episode: 208.00, total step: 66139.00, last_episode length: 499.00, last_episode_reward: 498.00, loss: 0.0943, lr: 0.0162\n",
            "episode: 209.00, total step: 66638.00, last_episode length: 499.00, last_episode_reward: 498.00, loss: -0.4312, lr: 0.0162\n",
            "episode: 210.00, total step: 67137.00, last_episode length: 499.00, last_episode_reward: 498.00, loss: 0.0415, lr: 0.0162\n"
          ],
          "name": "stdout"
        },
        {
          "output_type": "stream",
          "text": [
            "/usr/local/lib/python3.7/dist-packages/torch/optim/lr_scheduler.py:370: UserWarning: To get the last learning rate computed by the scheduler, please use `get_last_lr()`.\n",
            "  \"please use `get_last_lr()`.\", UserWarning)\n"
          ],
          "name": "stderr"
        },
        {
          "output_type": "stream",
          "text": [
            "episode: 211.00, total step: 67636.00, last_episode length: 499.00, last_episode_reward: 498.00, loss: -0.4245, lr: 0.0162\n",
            "episode: 212.00, total step: 68135.00, last_episode length: 499.00, last_episode_reward: 498.00, loss: -0.4334, lr: 0.0162\n",
            "episode: 213.00, total step: 68634.00, last_episode length: 499.00, last_episode_reward: 498.00, loss: -0.0736, lr: 0.0162\n",
            "episode: 214.00, total step: 69133.00, last_episode length: 499.00, last_episode_reward: 498.00, loss: -0.0758, lr: 0.0161\n",
            "episode: 215.00, total step: 69632.00, last_episode length: 499.00, last_episode_reward: 498.00, loss: -0.0819, lr: 0.0161\n",
            "episode: 216.00, total step: 70131.00, last_episode length: 499.00, last_episode_reward: 498.00, loss: -0.0327, lr: 0.0161\n",
            "episode: 217.00, total step: 70630.00, last_episode length: 499.00, last_episode_reward: 498.00, loss: -0.0390, lr: 0.0161\n",
            "episode: 218.00, total step: 71129.00, last_episode length: 499.00, last_episode_reward: 498.00, loss: -0.0009, lr: 0.0161\n",
            "episode: 219.00, total step: 71628.00, last_episode length: 499.00, last_episode_reward: 498.00, loss: -0.5936, lr: 0.0161\n",
            "episode: 220.00, total step: 72127.00, last_episode length: 499.00, last_episode_reward: 498.00, loss: -0.6259, lr: 0.0160\n"
          ],
          "name": "stdout"
        },
        {
          "output_type": "stream",
          "text": [
            "/usr/local/lib/python3.7/dist-packages/torch/optim/lr_scheduler.py:370: UserWarning: To get the last learning rate computed by the scheduler, please use `get_last_lr()`.\n",
            "  \"please use `get_last_lr()`.\", UserWarning)\n"
          ],
          "name": "stderr"
        },
        {
          "output_type": "stream",
          "text": [
            "episode: 221.00, total step: 72626.00, last_episode length: 499.00, last_episode_reward: 498.00, loss: -0.2029, lr: 0.0160\n",
            "episode: 222.00, total step: 73125.00, last_episode length: 499.00, last_episode_reward: 498.00, loss: -0.0276, lr: 0.0160\n",
            "episode: 223.00, total step: 73624.00, last_episode length: 499.00, last_episode_reward: 498.00, loss: 0.0444, lr: 0.0160\n",
            "episode: 224.00, total step: 74123.00, last_episode length: 499.00, last_episode_reward: 498.00, loss: -0.4246, lr: 0.0160\n",
            "episode: 225.00, total step: 74622.00, last_episode length: 499.00, last_episode_reward: 498.00, loss: -0.5720, lr: 0.0160\n",
            "episode: 226.00, total step: 75121.00, last_episode length: 499.00, last_episode_reward: 498.00, loss: -0.0432, lr: 0.0160\n",
            "episode: 227.00, total step: 75620.00, last_episode length: 499.00, last_episode_reward: 498.00, loss: -0.1784, lr: 0.0159\n",
            "episode: 228.00, total step: 76119.00, last_episode length: 499.00, last_episode_reward: 498.00, loss: 0.1340, lr: 0.0159\n",
            "episode: 229.00, total step: 76618.00, last_episode length: 499.00, last_episode_reward: 498.00, loss: 0.0506, lr: 0.0159\n",
            "episode: 230.00, total step: 77117.00, last_episode length: 499.00, last_episode_reward: 498.00, loss: -0.0503, lr: 0.0159\n"
          ],
          "name": "stdout"
        },
        {
          "output_type": "stream",
          "text": [
            "/usr/local/lib/python3.7/dist-packages/torch/optim/lr_scheduler.py:370: UserWarning: To get the last learning rate computed by the scheduler, please use `get_last_lr()`.\n",
            "  \"please use `get_last_lr()`.\", UserWarning)\n"
          ],
          "name": "stderr"
        },
        {
          "output_type": "stream",
          "text": [
            "episode: 231.00, total step: 77616.00, last_episode length: 499.00, last_episode_reward: 498.00, loss: -0.0844, lr: 0.0159\n",
            "episode: 232.00, total step: 78115.00, last_episode length: 499.00, last_episode_reward: 498.00, loss: -0.1218, lr: 0.0159\n",
            "episode: 233.00, total step: 78614.00, last_episode length: 499.00, last_episode_reward: 498.00, loss: -0.2675, lr: 0.0158\n",
            "episode: 234.00, total step: 79113.00, last_episode length: 499.00, last_episode_reward: 498.00, loss: 0.0324, lr: 0.0158\n",
            "episode: 235.00, total step: 79612.00, last_episode length: 499.00, last_episode_reward: 498.00, loss: -0.4069, lr: 0.0158\n",
            "episode: 236.00, total step: 80111.00, last_episode length: 499.00, last_episode_reward: 498.00, loss: -0.4011, lr: 0.0158\n",
            "episode: 237.00, total step: 80610.00, last_episode length: 499.00, last_episode_reward: 498.00, loss: -0.0307, lr: 0.0158\n",
            "episode: 238.00, total step: 81109.00, last_episode length: 499.00, last_episode_reward: 498.00, loss: 0.1203, lr: 0.0158\n",
            "episode: 239.00, total step: 81608.00, last_episode length: 499.00, last_episode_reward: 498.00, loss: -0.0336, lr: 0.0157\n",
            "episode: 240.00, total step: 82107.00, last_episode length: 499.00, last_episode_reward: 498.00, loss: 0.0523, lr: 0.0157\n"
          ],
          "name": "stdout"
        },
        {
          "output_type": "stream",
          "text": [
            "/usr/local/lib/python3.7/dist-packages/torch/optim/lr_scheduler.py:370: UserWarning: To get the last learning rate computed by the scheduler, please use `get_last_lr()`.\n",
            "  \"please use `get_last_lr()`.\", UserWarning)\n"
          ],
          "name": "stderr"
        },
        {
          "output_type": "stream",
          "text": [
            "episode: 241.00, total step: 82606.00, last_episode length: 499.00, last_episode_reward: 498.00, loss: -0.0329, lr: 0.0157\n",
            "episode: 242.00, total step: 83105.00, last_episode length: 499.00, last_episode_reward: 498.00, loss: -0.1418, lr: 0.0157\n",
            "episode: 243.00, total step: 83604.00, last_episode length: 499.00, last_episode_reward: 498.00, loss: -0.4175, lr: 0.0157\n",
            "episode: 244.00, total step: 84103.00, last_episode length: 499.00, last_episode_reward: 498.00, loss: -0.1297, lr: 0.0157\n",
            "episode: 245.00, total step: 84602.00, last_episode length: 499.00, last_episode_reward: 498.00, loss: -0.5059, lr: 0.0157\n",
            "episode: 246.00, total step: 85101.00, last_episode length: 499.00, last_episode_reward: 498.00, loss: 0.2153, lr: 0.0156\n",
            "episode: 247.00, total step: 85600.00, last_episode length: 499.00, last_episode_reward: 498.00, loss: 0.0761, lr: 0.0156\n",
            "episode: 248.00, total step: 86099.00, last_episode length: 499.00, last_episode_reward: 498.00, loss: 0.0141, lr: 0.0156\n",
            "episode: 249.00, total step: 86598.00, last_episode length: 499.00, last_episode_reward: 498.00, loss: 0.0040, lr: 0.0156\n",
            "episode: 250.00, total step: 87097.00, last_episode length: 499.00, last_episode_reward: 498.00, loss: 0.1856, lr: 0.0156\n"
          ],
          "name": "stdout"
        },
        {
          "output_type": "stream",
          "text": [
            "/usr/local/lib/python3.7/dist-packages/torch/optim/lr_scheduler.py:370: UserWarning: To get the last learning rate computed by the scheduler, please use `get_last_lr()`.\n",
            "  \"please use `get_last_lr()`.\", UserWarning)\n"
          ],
          "name": "stderr"
        },
        {
          "output_type": "stream",
          "text": [
            "episode: 251.00, total step: 87596.00, last_episode length: 499.00, last_episode_reward: 498.00, loss: 0.2812, lr: 0.0156\n",
            "episode: 252.00, total step: 88095.00, last_episode length: 499.00, last_episode_reward: 498.00, loss: 0.2121, lr: 0.0155\n",
            "episode: 253.00, total step: 88594.00, last_episode length: 499.00, last_episode_reward: 498.00, loss: 0.0870, lr: 0.0155\n",
            "episode: 254.00, total step: 89093.00, last_episode length: 499.00, last_episode_reward: 498.00, loss: 0.2830, lr: 0.0155\n",
            "episode: 255.00, total step: 89592.00, last_episode length: 499.00, last_episode_reward: 498.00, loss: 0.1811, lr: 0.0155\n",
            "episode: 256.00, total step: 90091.00, last_episode length: 499.00, last_episode_reward: 498.00, loss: 0.1278, lr: 0.0155\n",
            "episode: 257.00, total step: 90590.00, last_episode length: 499.00, last_episode_reward: 498.00, loss: 0.1542, lr: 0.0155\n",
            "episode: 258.00, total step: 91089.00, last_episode length: 499.00, last_episode_reward: 498.00, loss: 0.2222, lr: 0.0154\n",
            "episode: 259.00, total step: 91588.00, last_episode length: 499.00, last_episode_reward: 498.00, loss: 0.0588, lr: 0.0154\n",
            "episode: 260.00, total step: 92087.00, last_episode length: 499.00, last_episode_reward: 498.00, loss: -0.5454, lr: 0.0154\n"
          ],
          "name": "stdout"
        },
        {
          "output_type": "stream",
          "text": [
            "/usr/local/lib/python3.7/dist-packages/torch/optim/lr_scheduler.py:370: UserWarning: To get the last learning rate computed by the scheduler, please use `get_last_lr()`.\n",
            "  \"please use `get_last_lr()`.\", UserWarning)\n"
          ],
          "name": "stderr"
        },
        {
          "output_type": "stream",
          "text": [
            "episode: 261.00, total step: 92586.00, last_episode length: 499.00, last_episode_reward: 498.00, loss: 0.0370, lr: 0.0154\n",
            "episode: 262.00, total step: 93085.00, last_episode length: 499.00, last_episode_reward: 498.00, loss: 0.3165, lr: 0.0154\n",
            "episode: 263.00, total step: 93584.00, last_episode length: 499.00, last_episode_reward: 498.00, loss: -0.6277, lr: 0.0154\n",
            "episode: 264.00, total step: 94083.00, last_episode length: 499.00, last_episode_reward: 498.00, loss: -0.3164, lr: 0.0154\n",
            "episode: 265.00, total step: 94582.00, last_episode length: 499.00, last_episode_reward: 498.00, loss: -0.3027, lr: 0.0153\n",
            "episode: 266.00, total step: 95081.00, last_episode length: 499.00, last_episode_reward: 498.00, loss: -0.5806, lr: 0.0153\n",
            "episode: 267.00, total step: 95580.00, last_episode length: 499.00, last_episode_reward: 498.00, loss: -0.2001, lr: 0.0153\n",
            "episode: 268.00, total step: 96079.00, last_episode length: 499.00, last_episode_reward: 498.00, loss: -0.5501, lr: 0.0153\n",
            "episode: 269.00, total step: 96578.00, last_episode length: 499.00, last_episode_reward: 498.00, loss: -0.4043, lr: 0.0153\n",
            "episode: 270.00, total step: 97077.00, last_episode length: 499.00, last_episode_reward: 498.00, loss: 0.0814, lr: 0.0153\n"
          ],
          "name": "stdout"
        },
        {
          "output_type": "stream",
          "text": [
            "/usr/local/lib/python3.7/dist-packages/torch/optim/lr_scheduler.py:370: UserWarning: To get the last learning rate computed by the scheduler, please use `get_last_lr()`.\n",
            "  \"please use `get_last_lr()`.\", UserWarning)\n"
          ],
          "name": "stderr"
        },
        {
          "output_type": "stream",
          "text": [
            "episode: 271.00, total step: 97576.00, last_episode length: 499.00, last_episode_reward: 498.00, loss: -0.1239, lr: 0.0153\n",
            "episode: 272.00, total step: 98075.00, last_episode length: 499.00, last_episode_reward: 498.00, loss: -0.0092, lr: 0.0152\n",
            "episode: 273.00, total step: 98574.00, last_episode length: 499.00, last_episode_reward: 498.00, loss: -0.4204, lr: 0.0152\n",
            "episode: 274.00, total step: 99073.00, last_episode length: 499.00, last_episode_reward: 498.00, loss: 0.0240, lr: 0.0152\n",
            "episode: 275.00, total step: 99572.00, last_episode length: 499.00, last_episode_reward: 498.00, loss: 0.3342, lr: 0.0152\n",
            "episode: 276.00, total step: 100071.00, last_episode length: 499.00, last_episode_reward: 498.00, loss: 0.1566, lr: 0.0152\n",
            "episode: 277.00, total step: 100570.00, last_episode length: 499.00, last_episode_reward: 498.00, loss: 0.0775, lr: 0.0152\n",
            "episode: 278.00, total step: 101069.00, last_episode length: 499.00, last_episode_reward: 498.00, loss: -0.5470, lr: 0.0151\n",
            "episode: 279.00, total step: 101568.00, last_episode length: 499.00, last_episode_reward: 498.00, loss: 0.0957, lr: 0.0151\n",
            "episode: 280.00, total step: 102067.00, last_episode length: 499.00, last_episode_reward: 498.00, loss: 0.1311, lr: 0.0151\n"
          ],
          "name": "stdout"
        },
        {
          "output_type": "stream",
          "text": [
            "/usr/local/lib/python3.7/dist-packages/torch/optim/lr_scheduler.py:370: UserWarning: To get the last learning rate computed by the scheduler, please use `get_last_lr()`.\n",
            "  \"please use `get_last_lr()`.\", UserWarning)\n"
          ],
          "name": "stderr"
        },
        {
          "output_type": "stream",
          "text": [
            "episode: 281.00, total step: 102566.00, last_episode length: 499.00, last_episode_reward: 498.00, loss: -0.0912, lr: 0.0151\n",
            "episode: 282.00, total step: 103065.00, last_episode length: 499.00, last_episode_reward: 498.00, loss: -0.1578, lr: 0.0151\n",
            "episode: 283.00, total step: 103564.00, last_episode length: 499.00, last_episode_reward: 498.00, loss: -0.5706, lr: 0.0151\n",
            "episode: 284.00, total step: 104063.00, last_episode length: 499.00, last_episode_reward: 498.00, loss: 0.0588, lr: 0.0151\n",
            "episode: 285.00, total step: 104562.00, last_episode length: 499.00, last_episode_reward: 498.00, loss: 0.0122, lr: 0.0150\n",
            "episode: 286.00, total step: 105061.00, last_episode length: 499.00, last_episode_reward: 498.00, loss: -0.6195, lr: 0.0150\n",
            "episode: 287.00, total step: 105560.00, last_episode length: 499.00, last_episode_reward: 498.00, loss: -0.0552, lr: 0.0150\n",
            "episode: 288.00, total step: 106059.00, last_episode length: 499.00, last_episode_reward: 498.00, loss: -0.7264, lr: 0.0150\n",
            "episode: 289.00, total step: 106558.00, last_episode length: 499.00, last_episode_reward: 498.00, loss: 0.2514, lr: 0.0150\n",
            "episode: 290.00, total step: 107057.00, last_episode length: 499.00, last_episode_reward: 498.00, loss: 0.0142, lr: 0.0150\n"
          ],
          "name": "stdout"
        },
        {
          "output_type": "stream",
          "text": [
            "/usr/local/lib/python3.7/dist-packages/torch/optim/lr_scheduler.py:370: UserWarning: To get the last learning rate computed by the scheduler, please use `get_last_lr()`.\n",
            "  \"please use `get_last_lr()`.\", UserWarning)\n"
          ],
          "name": "stderr"
        },
        {
          "output_type": "stream",
          "text": [
            "episode: 291.00, total step: 107556.00, last_episode length: 499.00, last_episode_reward: 498.00, loss: 0.0696, lr: 0.0149\n",
            "episode: 292.00, total step: 108055.00, last_episode length: 499.00, last_episode_reward: 498.00, loss: 0.2060, lr: 0.0149\n",
            "episode: 293.00, total step: 108554.00, last_episode length: 499.00, last_episode_reward: 498.00, loss: -0.0221, lr: 0.0149\n",
            "episode: 294.00, total step: 109053.00, last_episode length: 499.00, last_episode_reward: 498.00, loss: -0.7164, lr: 0.0149\n",
            "episode: 295.00, total step: 109552.00, last_episode length: 499.00, last_episode_reward: 498.00, loss: -0.0188, lr: 0.0149\n",
            "episode: 296.00, total step: 110051.00, last_episode length: 499.00, last_episode_reward: 498.00, loss: 0.0439, lr: 0.0149\n",
            "episode: 297.00, total step: 110550.00, last_episode length: 499.00, last_episode_reward: 498.00, loss: -0.4492, lr: 0.0149\n",
            "episode: 298.00, total step: 111049.00, last_episode length: 499.00, last_episode_reward: 498.00, loss: 0.1967, lr: 0.0148\n",
            "episode: 299.00, total step: 111548.00, last_episode length: 499.00, last_episode_reward: 498.00, loss: -0.0841, lr: 0.0148\n",
            "episode: 300.00, total step: 112047.00, last_episode length: 499.00, last_episode_reward: 498.00, loss: -0.6290, lr: 0.0148\n"
          ],
          "name": "stdout"
        },
        {
          "output_type": "stream",
          "text": [
            "/usr/local/lib/python3.7/dist-packages/torch/optim/lr_scheduler.py:370: UserWarning: To get the last learning rate computed by the scheduler, please use `get_last_lr()`.\n",
            "  \"please use `get_last_lr()`.\", UserWarning)\n"
          ],
          "name": "stderr"
        },
        {
          "output_type": "stream",
          "text": [
            "episode: 301.00, total step: 112546.00, last_episode length: 499.00, last_episode_reward: 498.00, loss: 0.0805, lr: 0.0148\n",
            "episode: 302.00, total step: 113045.00, last_episode length: 499.00, last_episode_reward: 498.00, loss: -0.0258, lr: 0.0148\n",
            "episode: 303.00, total step: 113544.00, last_episode length: 499.00, last_episode_reward: 498.00, loss: 0.0730, lr: 0.0148\n",
            "episode: 304.00, total step: 114043.00, last_episode length: 499.00, last_episode_reward: 498.00, loss: 0.5143, lr: 0.0148\n",
            "episode: 305.00, total step: 114542.00, last_episode length: 499.00, last_episode_reward: 498.00, loss: 0.0773, lr: 0.0147\n",
            "episode: 306.00, total step: 115041.00, last_episode length: 499.00, last_episode_reward: 498.00, loss: 0.2971, lr: 0.0147\n",
            "episode: 307.00, total step: 115540.00, last_episode length: 499.00, last_episode_reward: 498.00, loss: 0.9513, lr: 0.0147\n",
            "episode: 308.00, total step: 116039.00, last_episode length: 499.00, last_episode_reward: 498.00, loss: -0.6366, lr: 0.0147\n",
            "episode: 309.00, total step: 116538.00, last_episode length: 499.00, last_episode_reward: 498.00, loss: -0.7241, lr: 0.0147\n",
            "episode: 310.00, total step: 117037.00, last_episode length: 499.00, last_episode_reward: 498.00, loss: -0.8396, lr: 0.0147\n"
          ],
          "name": "stdout"
        },
        {
          "output_type": "stream",
          "text": [
            "/usr/local/lib/python3.7/dist-packages/torch/optim/lr_scheduler.py:370: UserWarning: To get the last learning rate computed by the scheduler, please use `get_last_lr()`.\n",
            "  \"please use `get_last_lr()`.\", UserWarning)\n"
          ],
          "name": "stderr"
        },
        {
          "output_type": "stream",
          "text": [
            "episode: 311.00, total step: 117536.00, last_episode length: 499.00, last_episode_reward: 498.00, loss: -0.7712, lr: 0.0147\n",
            "episode: 312.00, total step: 118035.00, last_episode length: 499.00, last_episode_reward: 498.00, loss: -0.6837, lr: 0.0146\n",
            "episode: 313.00, total step: 118534.00, last_episode length: 499.00, last_episode_reward: 498.00, loss: -0.9024, lr: 0.0146\n",
            "episode: 314.00, total step: 119033.00, last_episode length: 499.00, last_episode_reward: 498.00, loss: -0.6566, lr: 0.0146\n",
            "episode: 315.00, total step: 119532.00, last_episode length: 499.00, last_episode_reward: 498.00, loss: -0.5302, lr: 0.0146\n",
            "episode: 316.00, total step: 120031.00, last_episode length: 499.00, last_episode_reward: 498.00, loss: -0.6742, lr: 0.0146\n",
            "episode: 317.00, total step: 120530.00, last_episode length: 499.00, last_episode_reward: 498.00, loss: -0.5690, lr: 0.0146\n",
            "episode: 318.00, total step: 121029.00, last_episode length: 499.00, last_episode_reward: 498.00, loss: -0.4652, lr: 0.0145\n",
            "episode: 319.00, total step: 121528.00, last_episode length: 499.00, last_episode_reward: 498.00, loss: -0.4216, lr: 0.0145\n",
            "episode: 320.00, total step: 122027.00, last_episode length: 499.00, last_episode_reward: 498.00, loss: -0.6180, lr: 0.0145\n"
          ],
          "name": "stdout"
        },
        {
          "output_type": "stream",
          "text": [
            "/usr/local/lib/python3.7/dist-packages/torch/optim/lr_scheduler.py:370: UserWarning: To get the last learning rate computed by the scheduler, please use `get_last_lr()`.\n",
            "  \"please use `get_last_lr()`.\", UserWarning)\n"
          ],
          "name": "stderr"
        },
        {
          "output_type": "stream",
          "text": [
            "episode: 321.00, total step: 122526.00, last_episode length: 499.00, last_episode_reward: 498.00, loss: -0.7830, lr: 0.0145\n",
            "episode: 322.00, total step: 123025.00, last_episode length: 499.00, last_episode_reward: 498.00, loss: -0.5728, lr: 0.0145\n",
            "episode: 323.00, total step: 123524.00, last_episode length: 499.00, last_episode_reward: 498.00, loss: -0.5360, lr: 0.0145\n",
            "episode: 324.00, total step: 124023.00, last_episode length: 499.00, last_episode_reward: 498.00, loss: -0.5813, lr: 0.0145\n",
            "episode: 325.00, total step: 124522.00, last_episode length: 499.00, last_episode_reward: 498.00, loss: -0.4927, lr: 0.0144\n",
            "episode: 326.00, total step: 125021.00, last_episode length: 499.00, last_episode_reward: 498.00, loss: -0.4871, lr: 0.0144\n",
            "episode: 327.00, total step: 125520.00, last_episode length: 499.00, last_episode_reward: 498.00, loss: -0.6288, lr: 0.0144\n",
            "episode: 328.00, total step: 126019.00, last_episode length: 499.00, last_episode_reward: 498.00, loss: -0.4703, lr: 0.0144\n",
            "episode: 329.00, total step: 126518.00, last_episode length: 499.00, last_episode_reward: 498.00, loss: -0.4524, lr: 0.0144\n",
            "episode: 330.00, total step: 127017.00, last_episode length: 499.00, last_episode_reward: 498.00, loss: -0.3755, lr: 0.0144\n"
          ],
          "name": "stdout"
        },
        {
          "output_type": "stream",
          "text": [
            "/usr/local/lib/python3.7/dist-packages/torch/optim/lr_scheduler.py:370: UserWarning: To get the last learning rate computed by the scheduler, please use `get_last_lr()`.\n",
            "  \"please use `get_last_lr()`.\", UserWarning)\n"
          ],
          "name": "stderr"
        },
        {
          "output_type": "stream",
          "text": [
            "episode: 331.00, total step: 127516.00, last_episode length: 499.00, last_episode_reward: 498.00, loss: -0.5632, lr: 0.0144\n",
            "episode: 332.00, total step: 128015.00, last_episode length: 499.00, last_episode_reward: 498.00, loss: -0.4806, lr: 0.0143\n",
            "episode: 333.00, total step: 128514.00, last_episode length: 499.00, last_episode_reward: 498.00, loss: -0.2830, lr: 0.0143\n",
            "episode: 334.00, total step: 129013.00, last_episode length: 499.00, last_episode_reward: 498.00, loss: -0.2760, lr: 0.0143\n",
            "episode: 335.00, total step: 129512.00, last_episode length: 499.00, last_episode_reward: 498.00, loss: -0.5749, lr: 0.0143\n",
            "episode: 336.00, total step: 130011.00, last_episode length: 499.00, last_episode_reward: 498.00, loss: -0.3224, lr: 0.0143\n",
            "episode: 337.00, total step: 130510.00, last_episode length: 499.00, last_episode_reward: 498.00, loss: -0.3232, lr: 0.0143\n",
            "episode: 338.00, total step: 131009.00, last_episode length: 499.00, last_episode_reward: 498.00, loss: -0.5127, lr: 0.0143\n",
            "episode: 339.00, total step: 131508.00, last_episode length: 499.00, last_episode_reward: 498.00, loss: -0.5300, lr: 0.0142\n",
            "episode: 340.00, total step: 132007.00, last_episode length: 499.00, last_episode_reward: 498.00, loss: -0.5022, lr: 0.0142\n"
          ],
          "name": "stdout"
        },
        {
          "output_type": "stream",
          "text": [
            "/usr/local/lib/python3.7/dist-packages/torch/optim/lr_scheduler.py:370: UserWarning: To get the last learning rate computed by the scheduler, please use `get_last_lr()`.\n",
            "  \"please use `get_last_lr()`.\", UserWarning)\n"
          ],
          "name": "stderr"
        },
        {
          "output_type": "stream",
          "text": [
            "episode: 341.00, total step: 132506.00, last_episode length: 499.00, last_episode_reward: 498.00, loss: -0.2687, lr: 0.0142\n",
            "episode: 342.00, total step: 133005.00, last_episode length: 499.00, last_episode_reward: 498.00, loss: -0.1715, lr: 0.0142\n",
            "episode: 343.00, total step: 133504.00, last_episode length: 499.00, last_episode_reward: 498.00, loss: -0.1973, lr: 0.0142\n",
            "episode: 344.00, total step: 134003.00, last_episode length: 499.00, last_episode_reward: 498.00, loss: -0.2377, lr: 0.0142\n",
            "episode: 345.00, total step: 134502.00, last_episode length: 499.00, last_episode_reward: 498.00, loss: -0.1903, lr: 0.0142\n",
            "episode: 346.00, total step: 135001.00, last_episode length: 499.00, last_episode_reward: 498.00, loss: -0.4027, lr: 0.0141\n",
            "episode: 347.00, total step: 135500.00, last_episode length: 499.00, last_episode_reward: 498.00, loss: -0.2534, lr: 0.0141\n",
            "episode: 348.00, total step: 135999.00, last_episode length: 499.00, last_episode_reward: 498.00, loss: -0.2081, lr: 0.0141\n",
            "episode: 349.00, total step: 136498.00, last_episode length: 499.00, last_episode_reward: 498.00, loss: -0.4629, lr: 0.0141\n",
            "episode: 350.00, total step: 136997.00, last_episode length: 499.00, last_episode_reward: 498.00, loss: -0.3219, lr: 0.0141\n"
          ],
          "name": "stdout"
        },
        {
          "output_type": "stream",
          "text": [
            "/usr/local/lib/python3.7/dist-packages/torch/optim/lr_scheduler.py:370: UserWarning: To get the last learning rate computed by the scheduler, please use `get_last_lr()`.\n",
            "  \"please use `get_last_lr()`.\", UserWarning)\n"
          ],
          "name": "stderr"
        },
        {
          "output_type": "stream",
          "text": [
            "episode: 351.00, total step: 137496.00, last_episode length: 499.00, last_episode_reward: 498.00, loss: -0.3104, lr: 0.0141\n",
            "episode: 352.00, total step: 137995.00, last_episode length: 499.00, last_episode_reward: 498.00, loss: -0.2960, lr: 0.0141\n",
            "episode: 353.00, total step: 138494.00, last_episode length: 499.00, last_episode_reward: 498.00, loss: -0.2538, lr: 0.0140\n",
            "episode: 354.00, total step: 138993.00, last_episode length: 499.00, last_episode_reward: 498.00, loss: -0.2192, lr: 0.0140\n",
            "episode: 355.00, total step: 139492.00, last_episode length: 499.00, last_episode_reward: 498.00, loss: -0.1742, lr: 0.0140\n",
            "episode: 356.00, total step: 139991.00, last_episode length: 499.00, last_episode_reward: 498.00, loss: -0.2680, lr: 0.0140\n",
            "episode: 357.00, total step: 140490.00, last_episode length: 499.00, last_episode_reward: 498.00, loss: -0.1363, lr: 0.0140\n",
            "episode: 358.00, total step: 140989.00, last_episode length: 499.00, last_episode_reward: 498.00, loss: -0.2650, lr: 0.0140\n",
            "episode: 359.00, total step: 141488.00, last_episode length: 499.00, last_episode_reward: 498.00, loss: -0.1859, lr: 0.0140\n",
            "episode: 360.00, total step: 141987.00, last_episode length: 499.00, last_episode_reward: 498.00, loss: -0.3183, lr: 0.0140\n"
          ],
          "name": "stdout"
        },
        {
          "output_type": "stream",
          "text": [
            "/usr/local/lib/python3.7/dist-packages/torch/optim/lr_scheduler.py:370: UserWarning: To get the last learning rate computed by the scheduler, please use `get_last_lr()`.\n",
            "  \"please use `get_last_lr()`.\", UserWarning)\n"
          ],
          "name": "stderr"
        },
        {
          "output_type": "stream",
          "text": [
            "episode: 361.00, total step: 142486.00, last_episode length: 499.00, last_episode_reward: 498.00, loss: -0.2775, lr: 0.0139\n",
            "episode: 362.00, total step: 142985.00, last_episode length: 499.00, last_episode_reward: 498.00, loss: -0.1529, lr: 0.0139\n",
            "episode: 363.00, total step: 143484.00, last_episode length: 499.00, last_episode_reward: 498.00, loss: -0.2154, lr: 0.0139\n",
            "episode: 364.00, total step: 143983.00, last_episode length: 499.00, last_episode_reward: 498.00, loss: -0.2919, lr: 0.0139\n",
            "episode: 365.00, total step: 144482.00, last_episode length: 499.00, last_episode_reward: 498.00, loss: -0.2396, lr: 0.0139\n",
            "episode: 366.00, total step: 144981.00, last_episode length: 499.00, last_episode_reward: 498.00, loss: -0.1510, lr: 0.0139\n",
            "episode: 367.00, total step: 145480.00, last_episode length: 499.00, last_episode_reward: 498.00, loss: -0.0278, lr: 0.0139\n",
            "episode: 368.00, total step: 145979.00, last_episode length: 499.00, last_episode_reward: 498.00, loss: -0.0570, lr: 0.0138\n",
            "episode: 369.00, total step: 146478.00, last_episode length: 499.00, last_episode_reward: 498.00, loss: -0.1610, lr: 0.0138\n",
            "episode: 370.00, total step: 146977.00, last_episode length: 499.00, last_episode_reward: 498.00, loss: -0.1853, lr: 0.0138\n"
          ],
          "name": "stdout"
        },
        {
          "output_type": "stream",
          "text": [
            "/usr/local/lib/python3.7/dist-packages/torch/optim/lr_scheduler.py:370: UserWarning: To get the last learning rate computed by the scheduler, please use `get_last_lr()`.\n",
            "  \"please use `get_last_lr()`.\", UserWarning)\n"
          ],
          "name": "stderr"
        },
        {
          "output_type": "stream",
          "text": [
            "episode: 371.00, total step: 147476.00, last_episode length: 499.00, last_episode_reward: 498.00, loss: -0.1821, lr: 0.0138\n",
            "episode: 372.00, total step: 147975.00, last_episode length: 499.00, last_episode_reward: 498.00, loss: -0.1868, lr: 0.0138\n",
            "episode: 373.00, total step: 148474.00, last_episode length: 499.00, last_episode_reward: 498.00, loss: -0.2158, lr: 0.0138\n",
            "episode: 374.00, total step: 148973.00, last_episode length: 499.00, last_episode_reward: 498.00, loss: -0.0954, lr: 0.0138\n",
            "episode: 375.00, total step: 149472.00, last_episode length: 499.00, last_episode_reward: 498.00, loss: -0.1073, lr: 0.0137\n",
            "episode: 376.00, total step: 149971.00, last_episode length: 499.00, last_episode_reward: 498.00, loss: -0.1141, lr: 0.0137\n",
            "episode: 377.00, total step: 150470.00, last_episode length: 499.00, last_episode_reward: 498.00, loss: -0.1159, lr: 0.0137\n",
            "episode: 378.00, total step: 150969.00, last_episode length: 499.00, last_episode_reward: 498.00, loss: -0.2484, lr: 0.0137\n",
            "episode: 379.00, total step: 151468.00, last_episode length: 499.00, last_episode_reward: 498.00, loss: -0.1669, lr: 0.0137\n",
            "episode: 380.00, total step: 151967.00, last_episode length: 499.00, last_episode_reward: 498.00, loss: -0.1372, lr: 0.0137\n"
          ],
          "name": "stdout"
        },
        {
          "output_type": "stream",
          "text": [
            "/usr/local/lib/python3.7/dist-packages/torch/optim/lr_scheduler.py:370: UserWarning: To get the last learning rate computed by the scheduler, please use `get_last_lr()`.\n",
            "  \"please use `get_last_lr()`.\", UserWarning)\n"
          ],
          "name": "stderr"
        },
        {
          "output_type": "stream",
          "text": [
            "episode: 381.00, total step: 152466.00, last_episode length: 499.00, last_episode_reward: 498.00, loss: -0.1248, lr: 0.0137\n",
            "episode: 382.00, total step: 152965.00, last_episode length: 499.00, last_episode_reward: 498.00, loss: -0.2519, lr: 0.0136\n",
            "episode: 383.00, total step: 153464.00, last_episode length: 499.00, last_episode_reward: 498.00, loss: -0.2614, lr: 0.0136\n",
            "episode: 384.00, total step: 153963.00, last_episode length: 499.00, last_episode_reward: 498.00, loss: -0.1162, lr: 0.0136\n",
            "episode: 385.00, total step: 154462.00, last_episode length: 499.00, last_episode_reward: 498.00, loss: -0.1793, lr: 0.0136\n",
            "episode: 386.00, total step: 154961.00, last_episode length: 499.00, last_episode_reward: 498.00, loss: -0.0788, lr: 0.0136\n",
            "episode: 387.00, total step: 155460.00, last_episode length: 499.00, last_episode_reward: 498.00, loss: -0.1704, lr: 0.0136\n",
            "episode: 388.00, total step: 155959.00, last_episode length: 499.00, last_episode_reward: 498.00, loss: -0.1939, lr: 0.0136\n",
            "episode: 389.00, total step: 156458.00, last_episode length: 499.00, last_episode_reward: 498.00, loss: -0.1211, lr: 0.0136\n",
            "episode: 390.00, total step: 156957.00, last_episode length: 499.00, last_episode_reward: 498.00, loss: -0.2247, lr: 0.0135\n"
          ],
          "name": "stdout"
        },
        {
          "output_type": "stream",
          "text": [
            "/usr/local/lib/python3.7/dist-packages/torch/optim/lr_scheduler.py:370: UserWarning: To get the last learning rate computed by the scheduler, please use `get_last_lr()`.\n",
            "  \"please use `get_last_lr()`.\", UserWarning)\n"
          ],
          "name": "stderr"
        },
        {
          "output_type": "stream",
          "text": [
            "episode: 391.00, total step: 157456.00, last_episode length: 499.00, last_episode_reward: 498.00, loss: -0.2167, lr: 0.0135\n",
            "episode: 392.00, total step: 157955.00, last_episode length: 499.00, last_episode_reward: 498.00, loss: -0.1646, lr: 0.0135\n",
            "episode: 393.00, total step: 158454.00, last_episode length: 499.00, last_episode_reward: 498.00, loss: -0.1227, lr: 0.0135\n",
            "episode: 394.00, total step: 158953.00, last_episode length: 499.00, last_episode_reward: 498.00, loss: -0.1255, lr: 0.0135\n",
            "episode: 395.00, total step: 159452.00, last_episode length: 499.00, last_episode_reward: 498.00, loss: -0.1144, lr: 0.0135\n",
            "episode: 396.00, total step: 159951.00, last_episode length: 499.00, last_episode_reward: 498.00, loss: -0.1269, lr: 0.0135\n",
            "episode: 397.00, total step: 160450.00, last_episode length: 499.00, last_episode_reward: 498.00, loss: -0.1697, lr: 0.0134\n",
            "episode: 398.00, total step: 160949.00, last_episode length: 499.00, last_episode_reward: 498.00, loss: -0.2818, lr: 0.0134\n",
            "episode: 399.00, total step: 161448.00, last_episode length: 499.00, last_episode_reward: 498.00, loss: -0.0147, lr: 0.0134\n",
            "episode: 400.00, total step: 161947.00, last_episode length: 499.00, last_episode_reward: 498.00, loss: -0.1977, lr: 0.0134\n"
          ],
          "name": "stdout"
        },
        {
          "output_type": "stream",
          "text": [
            "/usr/local/lib/python3.7/dist-packages/torch/optim/lr_scheduler.py:370: UserWarning: To get the last learning rate computed by the scheduler, please use `get_last_lr()`.\n",
            "  \"please use `get_last_lr()`.\", UserWarning)\n"
          ],
          "name": "stderr"
        },
        {
          "output_type": "stream",
          "text": [
            "episode: 401.00, total step: 162446.00, last_episode length: 499.00, last_episode_reward: 498.00, loss: -0.1582, lr: 0.0134\n",
            "episode: 402.00, total step: 162945.00, last_episode length: 499.00, last_episode_reward: 498.00, loss: -0.2248, lr: 0.0134\n",
            "episode: 403.00, total step: 163444.00, last_episode length: 499.00, last_episode_reward: 498.00, loss: -0.2806, lr: 0.0134\n",
            "episode: 404.00, total step: 163943.00, last_episode length: 499.00, last_episode_reward: 498.00, loss: -0.3084, lr: 0.0134\n",
            "episode: 405.00, total step: 164442.00, last_episode length: 499.00, last_episode_reward: 498.00, loss: -0.2449, lr: 0.0133\n",
            "episode: 406.00, total step: 164941.00, last_episode length: 499.00, last_episode_reward: 498.00, loss: -0.1103, lr: 0.0133\n",
            "episode: 407.00, total step: 165440.00, last_episode length: 499.00, last_episode_reward: 498.00, loss: -0.1036, lr: 0.0133\n",
            "episode: 408.00, total step: 165939.00, last_episode length: 499.00, last_episode_reward: 498.00, loss: -0.2554, lr: 0.0133\n",
            "episode: 409.00, total step: 166438.00, last_episode length: 499.00, last_episode_reward: 498.00, loss: -0.2059, lr: 0.0133\n",
            "episode: 410.00, total step: 166937.00, last_episode length: 499.00, last_episode_reward: 498.00, loss: 0.0600, lr: 0.0133\n"
          ],
          "name": "stdout"
        },
        {
          "output_type": "stream",
          "text": [
            "/usr/local/lib/python3.7/dist-packages/torch/optim/lr_scheduler.py:370: UserWarning: To get the last learning rate computed by the scheduler, please use `get_last_lr()`.\n",
            "  \"please use `get_last_lr()`.\", UserWarning)\n"
          ],
          "name": "stderr"
        },
        {
          "output_type": "stream",
          "text": [
            "episode: 411.00, total step: 167436.00, last_episode length: 499.00, last_episode_reward: 498.00, loss: -0.2959, lr: 0.0133\n",
            "episode: 412.00, total step: 167935.00, last_episode length: 499.00, last_episode_reward: 498.00, loss: -0.1801, lr: 0.0132\n",
            "episode: 413.00, total step: 168434.00, last_episode length: 499.00, last_episode_reward: 498.00, loss: -0.3232, lr: 0.0132\n",
            "episode: 414.00, total step: 168933.00, last_episode length: 499.00, last_episode_reward: 498.00, loss: -0.2504, lr: 0.0132\n",
            "episode: 415.00, total step: 169432.00, last_episode length: 499.00, last_episode_reward: 498.00, loss: -0.0683, lr: 0.0132\n",
            "episode: 416.00, total step: 169931.00, last_episode length: 499.00, last_episode_reward: 498.00, loss: -0.3164, lr: 0.0132\n",
            "episode: 417.00, total step: 170430.00, last_episode length: 499.00, last_episode_reward: 498.00, loss: -0.1542, lr: 0.0132\n",
            "episode: 418.00, total step: 170929.00, last_episode length: 499.00, last_episode_reward: 498.00, loss: -0.2154, lr: 0.0132\n",
            "episode: 419.00, total step: 171428.00, last_episode length: 499.00, last_episode_reward: 498.00, loss: -0.0866, lr: 0.0132\n",
            "episode: 420.00, total step: 171927.00, last_episode length: 499.00, last_episode_reward: 498.00, loss: 0.4938, lr: 0.0131\n"
          ],
          "name": "stdout"
        },
        {
          "output_type": "stream",
          "text": [
            "/usr/local/lib/python3.7/dist-packages/torch/optim/lr_scheduler.py:370: UserWarning: To get the last learning rate computed by the scheduler, please use `get_last_lr()`.\n",
            "  \"please use `get_last_lr()`.\", UserWarning)\n"
          ],
          "name": "stderr"
        },
        {
          "output_type": "stream",
          "text": [
            "episode: 421.00, total step: 172426.00, last_episode length: 499.00, last_episode_reward: 498.00, loss: -0.1519, lr: 0.0131\n",
            "episode: 422.00, total step: 172925.00, last_episode length: 499.00, last_episode_reward: 498.00, loss: -0.1676, lr: 0.0131\n",
            "episode: 423.00, total step: 173424.00, last_episode length: 499.00, last_episode_reward: 498.00, loss: -0.2264, lr: 0.0131\n",
            "episode: 424.00, total step: 173923.00, last_episode length: 499.00, last_episode_reward: 498.00, loss: -0.1954, lr: 0.0131\n",
            "episode: 425.00, total step: 174422.00, last_episode length: 499.00, last_episode_reward: 498.00, loss: -0.1535, lr: 0.0131\n",
            "episode: 426.00, total step: 174921.00, last_episode length: 499.00, last_episode_reward: 498.00, loss: -0.1806, lr: 0.0131\n",
            "episode: 427.00, total step: 175420.00, last_episode length: 499.00, last_episode_reward: 498.00, loss: -0.1706, lr: 0.0130\n",
            "episode: 428.00, total step: 175919.00, last_episode length: 499.00, last_episode_reward: 498.00, loss: -0.0470, lr: 0.0130\n",
            "episode: 429.00, total step: 176418.00, last_episode length: 499.00, last_episode_reward: 498.00, loss: -0.0633, lr: 0.0130\n",
            "episode: 430.00, total step: 176917.00, last_episode length: 499.00, last_episode_reward: 498.00, loss: -0.1671, lr: 0.0130\n"
          ],
          "name": "stdout"
        },
        {
          "output_type": "stream",
          "text": [
            "/usr/local/lib/python3.7/dist-packages/torch/optim/lr_scheduler.py:370: UserWarning: To get the last learning rate computed by the scheduler, please use `get_last_lr()`.\n",
            "  \"please use `get_last_lr()`.\", UserWarning)\n"
          ],
          "name": "stderr"
        },
        {
          "output_type": "stream",
          "text": [
            "episode: 431.00, total step: 177416.00, last_episode length: 499.00, last_episode_reward: 498.00, loss: -0.1091, lr: 0.0130\n",
            "episode: 432.00, total step: 177915.00, last_episode length: 499.00, last_episode_reward: 498.00, loss: -0.1224, lr: 0.0130\n",
            "episode: 433.00, total step: 178414.00, last_episode length: 499.00, last_episode_reward: 498.00, loss: -0.2442, lr: 0.0130\n",
            "episode: 434.00, total step: 178913.00, last_episode length: 499.00, last_episode_reward: 498.00, loss: -0.0937, lr: 0.0130\n",
            "episode: 435.00, total step: 179412.00, last_episode length: 499.00, last_episode_reward: 498.00, loss: -0.2066, lr: 0.0129\n",
            "episode: 436.00, total step: 179911.00, last_episode length: 499.00, last_episode_reward: 498.00, loss: -0.1389, lr: 0.0129\n",
            "episode: 437.00, total step: 180410.00, last_episode length: 499.00, last_episode_reward: 498.00, loss: -0.1237, lr: 0.0129\n",
            "episode: 438.00, total step: 180909.00, last_episode length: 499.00, last_episode_reward: 498.00, loss: -0.1950, lr: 0.0129\n",
            "episode: 439.00, total step: 181408.00, last_episode length: 499.00, last_episode_reward: 498.00, loss: -0.0988, lr: 0.0129\n",
            "episode: 440.00, total step: 181907.00, last_episode length: 499.00, last_episode_reward: 498.00, loss: -0.0480, lr: 0.0129\n"
          ],
          "name": "stdout"
        },
        {
          "output_type": "stream",
          "text": [
            "/usr/local/lib/python3.7/dist-packages/torch/optim/lr_scheduler.py:370: UserWarning: To get the last learning rate computed by the scheduler, please use `get_last_lr()`.\n",
            "  \"please use `get_last_lr()`.\", UserWarning)\n"
          ],
          "name": "stderr"
        },
        {
          "output_type": "stream",
          "text": [
            "episode: 441.00, total step: 182406.00, last_episode length: 499.00, last_episode_reward: 498.00, loss: -0.0607, lr: 0.0129\n",
            "episode: 442.00, total step: 182905.00, last_episode length: 499.00, last_episode_reward: 498.00, loss: -0.1405, lr: 0.0129\n",
            "episode: 443.00, total step: 183404.00, last_episode length: 499.00, last_episode_reward: 498.00, loss: -0.1059, lr: 0.0128\n",
            "episode: 444.00, total step: 183903.00, last_episode length: 499.00, last_episode_reward: 498.00, loss: 0.1546, lr: 0.0128\n",
            "episode: 445.00, total step: 184402.00, last_episode length: 499.00, last_episode_reward: 498.00, loss: -0.0715, lr: 0.0128\n",
            "episode: 446.00, total step: 184901.00, last_episode length: 499.00, last_episode_reward: 498.00, loss: -0.0461, lr: 0.0128\n",
            "episode: 447.00, total step: 185400.00, last_episode length: 499.00, last_episode_reward: 498.00, loss: -0.1286, lr: 0.0128\n",
            "episode: 448.00, total step: 185899.00, last_episode length: 499.00, last_episode_reward: 498.00, loss: -0.0546, lr: 0.0128\n",
            "episode: 449.00, total step: 186398.00, last_episode length: 499.00, last_episode_reward: 498.00, loss: -0.1878, lr: 0.0128\n",
            "episode: 450.00, total step: 186897.00, last_episode length: 499.00, last_episode_reward: 498.00, loss: -0.0125, lr: 0.0127\n"
          ],
          "name": "stdout"
        },
        {
          "output_type": "stream",
          "text": [
            "/usr/local/lib/python3.7/dist-packages/torch/optim/lr_scheduler.py:370: UserWarning: To get the last learning rate computed by the scheduler, please use `get_last_lr()`.\n",
            "  \"please use `get_last_lr()`.\", UserWarning)\n"
          ],
          "name": "stderr"
        },
        {
          "output_type": "stream",
          "text": [
            "episode: 451.00, total step: 187396.00, last_episode length: 499.00, last_episode_reward: 498.00, loss: -0.2020, lr: 0.0127\n",
            "episode: 452.00, total step: 187895.00, last_episode length: 499.00, last_episode_reward: 498.00, loss: -0.0711, lr: 0.0127\n",
            "episode: 453.00, total step: 188394.00, last_episode length: 499.00, last_episode_reward: 498.00, loss: 0.0217, lr: 0.0127\n",
            "episode: 454.00, total step: 188893.00, last_episode length: 499.00, last_episode_reward: 498.00, loss: 0.0138, lr: 0.0127\n",
            "episode: 455.00, total step: 189392.00, last_episode length: 499.00, last_episode_reward: 498.00, loss: -0.0333, lr: 0.0127\n",
            "episode: 456.00, total step: 189891.00, last_episode length: 499.00, last_episode_reward: 498.00, loss: -0.1524, lr: 0.0127\n",
            "episode: 457.00, total step: 190390.00, last_episode length: 499.00, last_episode_reward: 498.00, loss: -0.2348, lr: 0.0127\n",
            "episode: 458.00, total step: 190889.00, last_episode length: 499.00, last_episode_reward: 498.00, loss: -0.1677, lr: 0.0126\n",
            "episode: 459.00, total step: 191388.00, last_episode length: 499.00, last_episode_reward: 498.00, loss: -0.0808, lr: 0.0126\n",
            "episode: 460.00, total step: 191887.00, last_episode length: 499.00, last_episode_reward: 498.00, loss: -0.1645, lr: 0.0126\n"
          ],
          "name": "stdout"
        },
        {
          "output_type": "stream",
          "text": [
            "/usr/local/lib/python3.7/dist-packages/torch/optim/lr_scheduler.py:370: UserWarning: To get the last learning rate computed by the scheduler, please use `get_last_lr()`.\n",
            "  \"please use `get_last_lr()`.\", UserWarning)\n"
          ],
          "name": "stderr"
        },
        {
          "output_type": "stream",
          "text": [
            "episode: 461.00, total step: 192386.00, last_episode length: 499.00, last_episode_reward: 498.00, loss: -0.1351, lr: 0.0126\n",
            "episode: 462.00, total step: 192885.00, last_episode length: 499.00, last_episode_reward: 498.00, loss: -0.0143, lr: 0.0126\n",
            "episode: 463.00, total step: 193384.00, last_episode length: 499.00, last_episode_reward: 498.00, loss: -0.0107, lr: 0.0126\n",
            "episode: 464.00, total step: 193883.00, last_episode length: 499.00, last_episode_reward: 498.00, loss: -0.0944, lr: 0.0126\n",
            "episode: 465.00, total step: 194382.00, last_episode length: 499.00, last_episode_reward: 498.00, loss: 0.1162, lr: 0.0126\n",
            "episode: 466.00, total step: 194881.00, last_episode length: 499.00, last_episode_reward: 498.00, loss: -0.1919, lr: 0.0125\n",
            "episode: 467.00, total step: 195380.00, last_episode length: 499.00, last_episode_reward: 498.00, loss: -0.0206, lr: 0.0125\n",
            "episode: 468.00, total step: 195879.00, last_episode length: 499.00, last_episode_reward: 498.00, loss: -0.0516, lr: 0.0125\n",
            "episode: 469.00, total step: 196378.00, last_episode length: 499.00, last_episode_reward: 498.00, loss: 0.0356, lr: 0.0125\n",
            "episode: 470.00, total step: 196877.00, last_episode length: 499.00, last_episode_reward: 498.00, loss: -0.0686, lr: 0.0125\n"
          ],
          "name": "stdout"
        },
        {
          "output_type": "stream",
          "text": [
            "/usr/local/lib/python3.7/dist-packages/torch/optim/lr_scheduler.py:370: UserWarning: To get the last learning rate computed by the scheduler, please use `get_last_lr()`.\n",
            "  \"please use `get_last_lr()`.\", UserWarning)\n"
          ],
          "name": "stderr"
        },
        {
          "output_type": "stream",
          "text": [
            "episode: 471.00, total step: 197376.00, last_episode length: 499.00, last_episode_reward: 498.00, loss: -0.0080, lr: 0.0125\n",
            "episode: 472.00, total step: 197875.00, last_episode length: 499.00, last_episode_reward: 498.00, loss: -0.1686, lr: 0.0125\n",
            "episode: 473.00, total step: 198374.00, last_episode length: 499.00, last_episode_reward: 498.00, loss: -0.0487, lr: 0.0125\n",
            "episode: 474.00, total step: 198873.00, last_episode length: 499.00, last_episode_reward: 498.00, loss: 0.0033, lr: 0.0124\n",
            "episode: 475.00, total step: 199372.00, last_episode length: 499.00, last_episode_reward: 498.00, loss: -0.2201, lr: 0.0124\n",
            "episode: 476.00, total step: 199871.00, last_episode length: 499.00, last_episode_reward: 498.00, loss: 0.0389, lr: 0.0124\n",
            "episode: 477.00, total step: 200370.00, last_episode length: 499.00, last_episode_reward: 498.00, loss: -0.0093, lr: 0.0124\n",
            "episode: 478.00, total step: 200869.00, last_episode length: 499.00, last_episode_reward: 498.00, loss: 0.0091, lr: 0.0124\n",
            "episode: 479.00, total step: 201368.00, last_episode length: 499.00, last_episode_reward: 498.00, loss: -0.0520, lr: 0.0124\n",
            "episode: 480.00, total step: 201867.00, last_episode length: 499.00, last_episode_reward: 498.00, loss: -0.0601, lr: 0.0124\n"
          ],
          "name": "stdout"
        },
        {
          "output_type": "stream",
          "text": [
            "/usr/local/lib/python3.7/dist-packages/torch/optim/lr_scheduler.py:370: UserWarning: To get the last learning rate computed by the scheduler, please use `get_last_lr()`.\n",
            "  \"please use `get_last_lr()`.\", UserWarning)\n"
          ],
          "name": "stderr"
        },
        {
          "output_type": "stream",
          "text": [
            "episode: 481.00, total step: 202366.00, last_episode length: 499.00, last_episode_reward: 498.00, loss: 0.0311, lr: 0.0124\n",
            "episode: 482.00, total step: 202865.00, last_episode length: 499.00, last_episode_reward: 498.00, loss: -0.1255, lr: 0.0123\n",
            "episode: 483.00, total step: 203364.00, last_episode length: 499.00, last_episode_reward: 498.00, loss: -0.0865, lr: 0.0123\n",
            "episode: 484.00, total step: 203863.00, last_episode length: 499.00, last_episode_reward: 498.00, loss: -0.1307, lr: 0.0123\n",
            "episode: 485.00, total step: 204362.00, last_episode length: 499.00, last_episode_reward: 498.00, loss: -0.0747, lr: 0.0123\n",
            "episode: 486.00, total step: 204861.00, last_episode length: 499.00, last_episode_reward: 498.00, loss: -0.0457, lr: 0.0123\n",
            "episode: 487.00, total step: 205360.00, last_episode length: 499.00, last_episode_reward: 498.00, loss: -0.1010, lr: 0.0123\n",
            "episode: 488.00, total step: 205859.00, last_episode length: 499.00, last_episode_reward: 498.00, loss: -0.1683, lr: 0.0123\n",
            "episode: 489.00, total step: 206358.00, last_episode length: 499.00, last_episode_reward: 498.00, loss: -0.0040, lr: 0.0123\n",
            "episode: 490.00, total step: 206857.00, last_episode length: 499.00, last_episode_reward: 498.00, loss: -0.1159, lr: 0.0122\n"
          ],
          "name": "stdout"
        },
        {
          "output_type": "stream",
          "text": [
            "/usr/local/lib/python3.7/dist-packages/torch/optim/lr_scheduler.py:370: UserWarning: To get the last learning rate computed by the scheduler, please use `get_last_lr()`.\n",
            "  \"please use `get_last_lr()`.\", UserWarning)\n"
          ],
          "name": "stderr"
        },
        {
          "output_type": "stream",
          "text": [
            "episode: 491.00, total step: 207356.00, last_episode length: 499.00, last_episode_reward: 498.00, loss: -0.0646, lr: 0.0122\n",
            "episode: 492.00, total step: 207855.00, last_episode length: 499.00, last_episode_reward: 498.00, loss: 0.0184, lr: 0.0122\n",
            "episode: 493.00, total step: 208354.00, last_episode length: 499.00, last_episode_reward: 498.00, loss: -0.1227, lr: 0.0122\n",
            "episode: 494.00, total step: 208853.00, last_episode length: 499.00, last_episode_reward: 498.00, loss: -0.1114, lr: 0.0122\n",
            "episode: 495.00, total step: 209352.00, last_episode length: 499.00, last_episode_reward: 498.00, loss: -0.1280, lr: 0.0122\n",
            "episode: 496.00, total step: 209851.00, last_episode length: 499.00, last_episode_reward: 498.00, loss: -0.0965, lr: 0.0122\n",
            "episode: 497.00, total step: 210350.00, last_episode length: 499.00, last_episode_reward: 498.00, loss: 0.0583, lr: 0.0122\n",
            "episode: 498.00, total step: 210849.00, last_episode length: 499.00, last_episode_reward: 498.00, loss: -0.0642, lr: 0.0122\n",
            "episode: 499.00, total step: 211348.00, last_episode length: 499.00, last_episode_reward: 498.00, loss: 0.0140, lr: 0.0121\n",
            "episode: 500.00, total step: 211847.00, last_episode length: 499.00, last_episode_reward: 498.00, loss: -0.0822, lr: 0.0121\n",
            "episode: 501.00, total step: 212346.00, last_episode length: 499.00, last_episode_reward: 498.00, loss: -0.0261, lr: 0.0121\n"
          ],
          "name": "stdout"
        },
        {
          "output_type": "stream",
          "text": [
            "/usr/local/lib/python3.7/dist-packages/torch/optim/lr_scheduler.py:370: UserWarning: To get the last learning rate computed by the scheduler, please use `get_last_lr()`.\n",
            "  \"please use `get_last_lr()`.\", UserWarning)\n"
          ],
          "name": "stderr"
        },
        {
          "output_type": "display_data",
          "data": {
            "image/png": "[encoded data removed]",
            "text/plain": [
              "<Figure size 432x288 with 1 Axes>"
            ]
          },
          "metadata": {
            "tags": []
          }
        }
      ]
    },
    {
      "cell_type": "code",
      "metadata": {
        "colab": {
          "base_uri": "https://localhost:8080/",
          "height": 276
        },
        "id": "NgSztdnIj24V",
        "outputId": "fea27adf-38be-4d9d-936f-c534f0fe244f"
      },
      "source": [
        "plt.plot(PPO_rewards, label = 'PPO', color = 'green')\n",
        "plt.xlabel('Iteration')\n",
        "plt.ylabel('Reward')\n",
        "plt.legend(loc='lower right')\n",
        "plt.savefig('a2c_rewards.png', format='png', dpi=300)"
      ],
      "execution_count": null,
      "outputs": [
        {
          "output_type": "display_data",
          "data": {
            "image/png": "[encoded data removed]",
            "text/plain": [
              "<Figure size 432x288 with 1 Axes>"
            ]
          },
          "metadata": {
            "tags": []
          }
        }
      ]
    },
    {
      "cell_type": "code",
      "metadata": {
        "id": "Yvn4HO02iiPa",
        "colab": {
          "base_uri": "https://localhost:8080/",
          "height": 313
        },
        "outputId": "f2719741-8b15-4374-ae57-64a3afa48da2"
      },
      "source": [
        "plt.plot(PPO_rewards, label='PPO', color = 'green')\n",
        "plt.plot(vpg_rewards,label='Vanilla PG', color = 'red')\n",
        "plt.plot(a2c_rewards,label='A2C', color = 'blue')\n",
        "plt.legend(loc='lower right')\n",
        "plt.title(\"CartPole\", fontsize=14)\n",
        "plt.xlabel(\"episode\", fontsize=12)\n",
        "plt.ylabel(\"reward\", fontsize=12)"
      ],
      "execution_count": null,
      "outputs": [
        {
          "output_type": "execute_result",
          "data": {
            "text/plain": [
              "Text(0, 0.5, 'reward')"
            ]
          },
          "metadata": {
            "tags": []
          },
          "execution_count": 159
        },
        {
          "output_type": "display_data",
          "data": {
            "image/png": "[encoded data removed]",
            "text/plain": [
              "<Figure size 432x288 with 1 Axes>"
            ]
          },
          "metadata": {
            "tags": []
          }
        }
      ]
    }
  ]
}